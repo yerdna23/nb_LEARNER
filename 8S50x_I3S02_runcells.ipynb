{
 "cells": [
  {
   "cell_type": "markdown",
   "id": "11d90dc9",
   "metadata": {
    "id": "11d90dc9",
    "tags": [
     "learner",
     "md",
     "learner_chopped"
    ]
   },
   "source": [
    "<hr style=\"height: 1px;\">\n",
    "<i>This notebook was authored by the 8.S50x Course Teams, Copyright 2022 MIT All Rights Reserved.</i>\n",
    "<hr style=\"height: 1px;\">\n",
    "<br>\n",
    "\n",
    "<h1>Intro Chapter 3, Section 2: Coding Introduction with Your First Notebook</h1>\n"
   ]
  },
  {
   "cell_type": "markdown",
   "id": "1359d9dc",
   "metadata": {
    "id": "1359d9dc",
    "tags": [
     "learner",
     "md",
     "learner_chopped"
    ]
   },
   "source": [
    "<a name='section_2_0'></a>\n",
    "<hr style=\"height: 1px;\">\n",
    "\n",
    "\n",
    "## <h2 style=\"border:1px; border-style:solid; padding: 0.25em; color: #FFFFFF; background-color: #90409C\">I3S2.0: Overview</h2>\n"
   ]
  },
  {
   "cell_type": "markdown",
   "id": "32916da6",
   "metadata": {
    "id": "32916da6",
    "tags": [
     "learner",
     "md",
     "learner_chopped"
    ]
   },
   "source": [
    "<h3>Navigation</h3>\n",
    "\n",
    "<table style=\"width:100%\">\n",
    "    <tr>\n",
    "        <td style=\"text-align: left; vertical-align: top; font-size: 10pt;\"><a href=\"#section_2_1\">I3S2.1 Importing Libraries</a></td>\n",
    "        </td>\n",
    "    </tr>\n",
    "    <tr>\n",
    "        <td style=\"text-align: left; vertical-align: top; font-size: 10pt;\"><a href=\"#section_2_2\">I3S2.2 NumPy Arrays and Operations</a></td>\n",
    "        </td>\n",
    "    </tr>\n",
    "    <tr>\n",
    "        <td style=\"text-align: left; vertical-align: top; font-size: 10pt;\"><a href=\"#section_2_3\">I3S2.3 More on Array Shapes</a></td>\n",
    "        </td>\n",
    "    </tr>\n",
    "    <tr>\n",
    "        <td style=\"text-align: left; vertical-align: top; font-size: 10pt;\"><a href=\"#section_2_4\">I3S2.4 Indexing vs. Slicing Arrays</a></td>\n",
    "        </td>\n",
    "    </tr>\n",
    "    <tr>\n",
    "        <td style=\"text-align: left; vertical-align: top; font-size: 10pt;\"><a href=\"#section_2_5\">I3S2.5 Practice with Functions</a></td>\n",
    "      </td>\n",
    "    </tr>\n",
    "    <tr>\n",
    "        <td style=\"text-align: left; vertical-align: top; font-size: 10pt;\"><a href=\"#section_2_6\">I3S2.6 Working Through Unknowns</a></td>\n",
    "        </td>\n",
    "    </tr>\n",
    "    <tr>\n",
    "        <td style=\"text-align: left; vertical-align: top; font-size: 10pt;\"><a href=\"#section_2_7\">I3S2.7 How to Find Functions in Libraries</a></td>\n",
    "        </td>\n",
    "    </tr>\n",
    "\n",
    "\n",
    "\n",
    "\n",
    "</table>"
   ]
  },
  {
   "cell_type": "markdown",
   "id": "64cfd647",
   "metadata": {
    "id": "64cfd647",
    "tags": [
     "learner",
     "md",
     "learner_chopped"
    ]
   },
   "source": [
    "<a name='section_2_1'></a>\n",
    "<hr style=\"height: 1px;\">\n",
    "\n",
    "\n",
    "## <h2 style=\"border:1px; border-style:solid; padding: 0.25em; color: #FFFFFF; background-color: #90409C\">I3S2.1: Importing Libraries</h2>\n",
    "\n",
    "| [Top](#section_2_0) | [Previous Section](#section_2_0) | [Next Section](#section_2_2) |"
   ]
  },
  {
   "cell_type": "code",
   "execution_count": null,
   "id": "ecc928a0",
   "metadata": {
    "id": "ecc928a0",
    "tags": [
     "learner",
     "py",
     "catsoop_01",
     "learner_chopped"
    ]
   },
   "outputs": [],
   "source": [
    "#>>>RUN: I3S2.1-runcell01\n",
    "\n",
    "import numpy as np"
   ]
  },
  {
   "cell_type": "code",
   "execution_count": null,
   "id": "22a59472",
   "metadata": {
    "id": "22a59472",
    "tags": [
     "learner",
     "py",
     "catsoop_01",
     "learner_chopped"
    ]
   },
   "outputs": [],
   "source": [
    "#>>>RUN: I3S2.1-runcell02\n",
    "\n",
    "import matplotlib.pyplot as plt\n",
    "\n",
    "x = np.linspace(0,10,10)\n",
    "y = np.linspace(0,10,10)\n",
    "plt.plot(x,y)\n",
    "plt.show()"
   ]
  },
  {
   "cell_type": "code",
   "execution_count": null,
   "id": "64450dac",
   "metadata": {
    "id": "64450dac",
    "tags": [
     "learner",
     "py",
     "catsoop_01",
     "learner_chopped"
    ]
   },
   "outputs": [],
   "source": [
    "#>>>RUN: I3S2.1-runcell03\n",
    "\n",
    "#>>>RUN IMPORT AND SET RESOLUTION AND FIGURE SIZE\n",
    "import numpy as np\n",
    "import matplotlib.pyplot as plt\n",
    "\n",
    "#set plot resolution\n",
    "%config InlineBackend.figure_format = 'retina'\n",
    "\n",
    "#set default figure size\n",
    "plt.rcParams['figure.figsize'] = (9,6)"
   ]
  },
  {
   "cell_type": "code",
   "execution_count": null,
   "id": "6ba3ecf1",
   "metadata": {
    "id": "6ba3ecf1",
    "tags": [
     "learner",
     "py",
     "catsoop_01",
     "learner_chopped"
    ]
   },
   "outputs": [],
   "source": [
    "#>>>RUN: I3S2.1-runcell04\n",
    "\n",
    "x = np.linspace(0,10,11)\n",
    "y = np.linspace(0,10,11)\n",
    "plt.plot(x,y)\n",
    "plt.show()"
   ]
  },
  {
   "cell_type": "markdown",
   "id": "488a80a8",
   "metadata": {
    "id": "488a80a8",
    "tags": [
     "learner",
     "md",
     "learner_chopped"
    ]
   },
   "source": [
    "<a name='section_2_2'></a>\n",
    "<hr style=\"height: 1px;\">\n",
    "\n",
    "\n",
    "## <h2 style=\"border:1px; border-style:solid; padding: 0.25em; color: #FFFFFF; background-color: #90409C\">I3S2.2: NumPy Arrays and Operations</h2>\n",
    "\n",
    "| [Top](#section_2_0) | [Previous Section](#section_2_1) | [Practice](#practice_2_2) | [Next Section](#section_2_3) |"
   ]
  },
  {
   "cell_type": "code",
   "execution_count": null,
   "id": "5f301991",
   "metadata": {
    "id": "5f301991",
    "tags": [
     "learner",
     "py",
     "catsoop_02",
     "learner_chopped"
    ]
   },
   "outputs": [],
   "source": [
    "#>>>RUN: I3S2.2-runcell01\n",
    "import numpy as np\n",
    "\n",
    "A = [1,2,3,4,5]\n",
    "A_array = np.array(A)\n",
    "\n",
    "print('A:',A)\n",
    "print('A is a list:', type(A))\n",
    "print()\n",
    "\n",
    "print('A_array:',A_array)\n",
    "print('A_array is an array:', type(A_array))"
   ]
  },
  {
   "cell_type": "code",
   "execution_count": null,
   "id": "e3d3011d",
   "metadata": {
    "id": "e3d3011d",
    "tags": [
     "learner",
     "py",
     "catsoop_02",
     "learner_chopped"
    ]
   },
   "outputs": [],
   "source": [
    "#>>>RUN: I3S2.2-runcell02\n",
    "import numpy as np\n",
    "\n",
    "B = np.linspace(0,10,11)\n",
    "\n",
    "print('print B:',B)\n",
    "print('type:',type(B))\n",
    "print('shape:',B.shape)"
   ]
  },
  {
   "cell_type": "code",
   "execution_count": null,
   "id": "e28c4a49",
   "metadata": {
    "id": "e28c4a49",
    "tags": [
     "learner",
     "py",
     "catsoop_02",
     "learner_chopped"
    ]
   },
   "outputs": [],
   "source": [
    "#>>>RUN: I3S2.2-runcell03\n",
    "import numpy as np\n",
    "\n",
    "C = np.array([[1,2,3],[4,5,6]])\n",
    "\n",
    "print('print C:')\n",
    "print(C)\n",
    "print('shape:',C.shape)\n",
    "print()\n",
    "\n",
    "#OR TRY \n",
    "M_1D = np.array([1,2,3,4,5,6])\n",
    "M_2D = np.reshape(M_1D, (2, 3))\n",
    "\n",
    "print('print M_2D:')\n",
    "print(M_2D)\n",
    "print('shape:',M_2D.shape)"
   ]
  },
  {
   "cell_type": "markdown",
   "id": "343f2843",
   "metadata": {
    "id": "343f2843",
    "tags": [
     "learner",
     "md",
     "learner_chopped"
    ]
   },
   "source": [
    "<a name='practice_2_2'></a>\n",
    "\n",
    "### <span style=\"border:3px; border-style:solid; padding: 0.15em; border-color: #90409C; color: #90409C;\">I3S2.2.1 Array Example 1</span>\n",
    "\n",
    "Provide an expression that sets A to be a  1D  numpy array of length 5 (shape (5,)), containing any values you wish.\n",
    "\n",
    "Notice the command `print(A.shape)` which allows you to check if your expression creates an array of the correct shape. Lines like this will typically *not* be included in the starting version of the code for questions in this course. You are strongly encouraged to add them yourself.\n"
   ]
  },
  {
   "cell_type": "code",
   "execution_count": null,
   "id": "12bc9cfc",
   "metadata": {
    "id": "12bc9cfc",
    "tags": [
     "py",
     "draft",
     "learner_chopped"
    ]
   },
   "outputs": [],
   "source": [
    "#>>>PROBLEM: I3S2.2.1\n",
    "# Use this cell for drafting and checking your solution,\n",
    "# then submit it on MITx to be graded.\n",
    "\n",
    "A = 0\n",
    "\n",
    "#TEST\n",
    "#Note, we typically will not include a line of code to test your output\n",
    "#This is something you must do on your own\n",
    "print(A.shape)"
   ]
  },
  {
   "cell_type": "markdown",
   "id": "5171fb67",
   "metadata": {
    "id": "5171fb67",
    "tags": [
     "learner",
     "md",
     "learner_chopped"
    ]
   },
   "source": [
    "### <span style=\"border:3px; border-style:solid; padding: 0.15em; border-color: #90409C; color: #90409C;\">I3S2.2.2 Array Example 2</span>\n",
    "\n",
    "Provide an expression that sets B to be a  3×1  numpy array ( 3  rows by  1  columns), containing any values you wish.\n",
    "\n"
   ]
  },
  {
   "cell_type": "code",
   "execution_count": null,
   "id": "c761fa52",
   "metadata": {
    "id": "c761fa52",
    "tags": [
     "py",
     "draft",
     "learner_chopped"
    ]
   },
   "outputs": [],
   "source": [
    "#>>>PROBLEM: I3S2.2.2\n",
    "# Use this cell for drafting and checking your solution,\n",
    "# then submit it on MITx to be graded.\n",
    "\n",
    "B = 0\n",
    "\n",
    "#Try applying B.T to see that it matches your previous answer for A"
   ]
  },
  {
   "cell_type": "markdown",
   "id": "bb565f6f",
   "metadata": {
    "id": "bb565f6f",
    "tags": [
     "learner",
     "md",
     "learner_chopped"
    ]
   },
   "source": [
    " ### <span style=\"border:3px; border-style:solid; padding: 0.15em; border-color: #90409C; color: #90409C;\">I3S2.2.3 Array Example 3</span>\n",
    "\n",
    "Provide an expression that sets C to be a  2×3  numpy array ( 2  rows by  3  columns), containing any values you wish.\n",
    "\n"
   ]
  },
  {
   "cell_type": "code",
   "execution_count": null,
   "id": "841e62e1",
   "metadata": {
    "id": "841e62e1",
    "tags": [
     "py",
     "draft",
     "learner_chopped"
    ]
   },
   "outputs": [],
   "source": [
    "#>>>PROBLEM: I3S2.2.3\n",
    "# Use this cell for drafting and checking your solution,\n",
    "# then submit it on MITx to be graded.\n",
    "\n",
    "C = 0"
   ]
  },
  {
   "cell_type": "code",
   "execution_count": null,
   "id": "8f470712",
   "metadata": {
    "id": "8f470712",
    "tags": [
     "py",
     "catsoop_02",
     "learner",
     "learner_chopped"
    ]
   },
   "outputs": [],
   "source": [
    "#>>>RUN: I3S2.2-runcell04\n",
    "\n",
    "x31 = np.array([[1],[5],[3]])\n",
    "x13 = np.array([[1,5,3]])\n",
    "x3 = np.array([1,5,3])\n",
    "\n",
    "print('x31')\n",
    "print(x31)\n",
    "print()\n",
    "\n",
    "print('x13')\n",
    "print(x13)\n",
    "print()\n",
    "\n",
    "print('x3')\n",
    "print(x3)\n",
    "print()\n",
    "\n",
    "print('x13.T (should equal x31)')\n",
    "print(x13.T)\n",
    "print()\n",
    "\n",
    "print('x3.T (will not equal x31)')\n",
    "print(x3.T)\n",
    "print()"
   ]
  },
  {
   "cell_type": "markdown",
   "id": "2a3bef3b",
   "metadata": {
    "id": "2a3bef3b",
    "tags": [
     "learner",
     "md",
     "learner_chopped"
    ]
   },
   "source": [
    "<a name='section_2_3'></a>\n",
    "<hr style=\"height: 1px;\">\n",
    "\n",
    "## <h2 style=\"border:1px; border-style:solid; padding: 0.25em; color: #FFFFFF; background-color: #90409C\">I3S2.3 More on Array Shapes</h2>    \n",
    "\n",
    "| [Top](#section_2_0) | [Previous Section](#section_2_2) | [Practice](#practice_2_3) | [Next Section](#section_2_4) |\n"
   ]
  },
  {
   "cell_type": "markdown",
   "id": "198e20c4",
   "metadata": {
    "id": "198e20c4",
    "tags": [
     "learner",
     "md",
     "learner_chopped"
    ]
   },
   "source": [
    "<a name='practice_2_3'></a> \n",
    "\n",
    "### <span style=\"border:3px; border-style:solid; padding: 0.15em; border-color: #90409C; color: #90409C;\">I3S2.3.1 Array Shapes 1</span>\n",
    "\n",
    "Enter the shape of <tt>np.array([1,2,3])</tt> as a python tuple."
   ]
  },
  {
   "cell_type": "code",
   "execution_count": null,
   "id": "acfac3a7",
   "metadata": {
    "id": "acfac3a7",
    "tags": [
     "py",
     "draft",
     "learner_chopped"
    ]
   },
   "outputs": [],
   "source": [
    "#>>>PROBLEM: I3S2.3.1\n",
    "# Use this cell for drafting your solution (if desired),\n",
    "# then enter your solution in the interactive problem online to be graded.\n",
    "\n",
    "pass"
   ]
  },
  {
   "cell_type": "markdown",
   "id": "7a93b8f9",
   "metadata": {
    "id": "7a93b8f9",
    "tags": [
     "learner",
     "md",
     "learner_chopped"
    ]
   },
   "source": [
    "### <span style=\"border:3px; border-style:solid; padding: 0.15em; border-color: #90409C; color: #90409C;\">I3S2.3.2 Array Shapes 2</span>\n",
    "\n",
    "Enter the shape of  <tt>np.array([[1,2,3]])</tt> as a python tuple:\n",
    "\n"
   ]
  },
  {
   "cell_type": "code",
   "execution_count": null,
   "id": "ed50af4b",
   "metadata": {
    "id": "ed50af4b",
    "tags": [
     "py",
     "draft",
     "learner_chopped"
    ]
   },
   "outputs": [],
   "source": [
    "#>>>PROBLEM: I3S2.3.2\n",
    "# Use this cell for drafting your solution (if desired),\n",
    "# then enter your solution in the interactive problem online to be graded.\n",
    "\n",
    "pass"
   ]
  },
  {
   "cell_type": "markdown",
   "id": "474aed47",
   "metadata": {
    "id": "474aed47",
    "tags": [
     "learner",
     "md",
     "learner_chopped"
    ]
   },
   "source": [
    "### <span style=\"border:3px; border-style:solid; padding: 0.15em; border-color: #90409C; color: #90409C;\">I3S2.3.3 Array Shapes 3</span>\n",
    "\n",
    "Enter the shape of <tt>C * C</tt> as a python tuple.\n",
    "\n",
    "Reminder: `A` is $4\\times 2$, `B` is $4\\times 3$, and `C` is $4\\times 1$.\n",
    "\n"
   ]
  },
  {
   "cell_type": "code",
   "execution_count": null,
   "id": "13ba8490",
   "metadata": {
    "id": "13ba8490",
    "tags": [
     "py",
     "draft",
     "learner_chopped"
    ]
   },
   "outputs": [],
   "source": [
    "#>>>PROBLEM: I3S2.3.3\n",
    "# Use this cell for drafting your solution (if desired),\n",
    "# then enter your solution in the interactive problem online to be graded.\n",
    "\n",
    "pass"
   ]
  },
  {
   "cell_type": "markdown",
   "id": "0710f455",
   "metadata": {
    "id": "0710f455",
    "tags": [
     "learner",
     "md",
     "learner_chopped"
    ]
   },
   "source": [
    "<a name='section_2_4'></a>\n",
    "<hr style=\"height: 1px;\">\n",
    "\n",
    "## <h2 style=\"border:1px; border-style:solid; padding: 0.25em; color: #FFFFFF; background-color: #90409C\">I3S2.4 Indexing vs. Slicing Arrays</h2>    \n",
    "\n",
    "| [Top](#section_2_0) | [Previous Section](#section_2_3) | [Practice](#practice_2_4) | [Next Section](#section_2_5) |\n"
   ]
  },
  {
   "cell_type": "markdown",
   "id": "44675c60",
   "metadata": {
    "id": "44675c60",
    "tags": [
     "learner",
     "md",
     "learner_chopped"
    ]
   },
   "source": [
    "<a name='practice_2_4'></a>  \n",
    "\n",
    "### <span style=\"border:3px; border-style:solid; padding: 0.15em; border-color: #90409C; color: #90409C;\">I3S2.4.1 Indexing and Slicing 1</span>\n",
    "\n",
    "Try to determine the answer without entering the expression in python.\n",
    "\n",
    "<tt>A[1,2] = </tt>"
   ]
  },
  {
   "cell_type": "code",
   "execution_count": null,
   "id": "676bf5c4",
   "metadata": {
    "id": "676bf5c4",
    "tags": [
     "py",
     "draft",
     "learner_chopped"
    ]
   },
   "outputs": [],
   "source": [
    "#>>>PROBLEM: I3S2.4.1\n",
    "# Use this cell for drafting your solution (if desired),\n",
    "# then enter your solution in the interactive problem online to be graded.\n",
    "\n",
    "pass"
   ]
  },
  {
   "cell_type": "markdown",
   "id": "d97ccc4b",
   "metadata": {
    "id": "d97ccc4b",
    "tags": [
     "learner",
     "md",
     "learner_chopped"
    ]
   },
   "source": [
    "### <span style=\"border:3px; border-style:solid; padding: 0.15em; border-color: #90409C; color: #90409C;\">I3S2.4.2 Indexing and Slicing 2</span>\n",
    "\n",
    "Try to determine the answer without entering the expression in python.\n",
    "\n",
    "For <tt>A = np.array([[5,7,10,14],[2,4,8,9]])</tt>, \n",
    "\n",
    "<tt>A[1,8] = </tt>"
   ]
  },
  {
   "cell_type": "code",
   "execution_count": null,
   "id": "46ee7461",
   "metadata": {
    "id": "46ee7461",
    "tags": [
     "py",
     "draft",
     "learner_chopped"
    ]
   },
   "outputs": [],
   "source": [
    "#>>>PROBLEM: I3S2.4.2\n",
    "# Use this cell for drafting your solution (if desired),\n",
    "# then enter your solution in the interactive problem online to be graded.\n",
    "\n",
    "pass"
   ]
  },
  {
   "cell_type": "markdown",
   "id": "f18e5103",
   "metadata": {
    "id": "f18e5103",
    "tags": [
     "learner",
     "md",
     "learner_chopped"
    ]
   },
   "source": [
    "### <span style=\"border:3px; border-style:solid; padding: 0.15em; border-color: #90409C; color: #90409C;\">I3S2.4.3 Indexing and Slicing 3</span>\n",
    "\n",
    "Try to determine the answer without entering the expression in python.\n",
    "\n",
    "For <tt>A = np.array([[5,7,10,14],[2,4,8,9]])</tt>, \n",
    "\n",
    "<tt>A[0:1,1:3] = </tt>"
   ]
  },
  {
   "cell_type": "code",
   "execution_count": null,
   "id": "22e4b168",
   "metadata": {
    "id": "22e4b168",
    "tags": [
     "py",
     "draft",
     "learner_chopped"
    ]
   },
   "outputs": [],
   "source": [
    "#>>>PROBLEM: I3S2.4.3\n",
    "# Use this cell for drafting your solution (if desired),\n",
    "# then enter your solution in the interactive problem online to be graded.\n",
    "\n",
    "pass"
   ]
  },
  {
   "cell_type": "markdown",
   "id": "e4d0342b",
   "metadata": {
    "id": "e4d0342b",
    "tags": [
     "learner",
     "md",
     "learner_chopped"
    ]
   },
   "source": [
    "### <span style=\"border:3px; border-style:solid; padding: 0.15em; border-color: #90409C; color: #90409C;\">I3S2.4.4 Indexing and Slicing 4</span>\n",
    "\n",
    "Try to determine the answer without entering the expression in python.\n",
    "\n",
    "For <tt>A = np.array([[5,7,10,14],[2,4,8,9]])</tt>, \n",
    "\n",
    "<tt>A[0:1,1:20] = </tt>"
   ]
  },
  {
   "cell_type": "code",
   "execution_count": null,
   "id": "346c4cae",
   "metadata": {
    "id": "346c4cae",
    "tags": [
     "py",
     "draft",
     "learner_chopped"
    ]
   },
   "outputs": [],
   "source": [
    "#>>>PROBLEM: I3S2.4.4\n",
    "# Use this cell for drafting your solution (if desired),\n",
    "# then enter your solution in the interactive problem online to be graded.\n",
    "\n",
    "pass"
   ]
  },
  {
   "cell_type": "markdown",
   "id": "9214f852",
   "metadata": {
    "id": "9214f852",
    "tags": [
     "learner",
     "md",
     "learner_chopped"
    ]
   },
   "source": [
    "### <span style=\"border:3px; border-style:solid; padding: 0.15em; border-color: #90409C; color: #90409C;\">I3S2.4.5 Indexing and Slicing 5</span>\n",
    "\n",
    "Try to determine the answer without entering the expression in python.\n",
    "\n",
    "For <tt>A = np.array([[5,7,10,14],[2,4,8,9]])</tt>, \n",
    "\n",
    "<tt>A[1:,:2] = </tt>"
   ]
  },
  {
   "cell_type": "code",
   "execution_count": null,
   "id": "cef56403",
   "metadata": {
    "id": "cef56403",
    "tags": [
     "py",
     "draft",
     "learner_chopped"
    ]
   },
   "outputs": [],
   "source": [
    "#>>>PROBLEM: I3S2.4.5\n",
    "# Use this cell for drafting your solution (if desired),\n",
    "# then enter your solution in the interactive problem online to be graded.\n",
    "\n",
    "pass"
   ]
  },
  {
   "cell_type": "markdown",
   "id": "c58dcf4f",
   "metadata": {
    "id": "c58dcf4f",
    "tags": [
     "learner",
     "md",
     "learner_chopped"
    ]
   },
   "source": [
    "### <span style=\"border:3px; border-style:solid; padding: 0.15em; border-color: #90409C; color: #90409C;\">I3S2.4.6 Indexing and Slicing 6</span>\n",
    "\n",
    "Try to determine the answer without entering the expression in python.\n",
    "\n",
    "For <tt>A = np.array([[5,7,10,14],[2,4,8,9]])</tt>, \n",
    "\n",
    "<tt>A[1,1:3] = </tt>"
   ]
  },
  {
   "cell_type": "code",
   "execution_count": null,
   "id": "fbca82f7",
   "metadata": {
    "id": "fbca82f7",
    "tags": [
     "py",
     "draft",
     "learner_chopped"
    ]
   },
   "outputs": [],
   "source": [
    "#>>>PROBLEM: I3S2.4.6\n",
    "# Use this cell for drafting your solution (if desired),\n",
    "# then enter your solution in the interactive problem online to be graded.\n",
    "\n",
    "pass"
   ]
  },
  {
   "cell_type": "markdown",
   "id": "fd66c716",
   "metadata": {
    "id": "fd66c716",
    "tags": [
     "learner",
     "md",
     "learner_chopped"
    ]
   },
   "source": [
    "### <span style=\"border:3px; border-style:solid; padding: 0.15em; border-color: #90409C; color: #90409C;\">I3S2.4.7 Indexing and Slicing 7</span>\n",
    "\n",
    "\n",
    "Try to determine the answer without entering the expression in python.\n",
    "\n",
    "For <tt>A = np.array([[5,7,10,14],[2,4,8,9]])</tt>, \n",
    "\n",
    "<tt>A[:,1:2] = </tt>"
   ]
  },
  {
   "cell_type": "code",
   "execution_count": null,
   "id": "2d14c292",
   "metadata": {
    "id": "2d14c292",
    "tags": [
     "py",
     "draft",
     "learner_chopped"
    ]
   },
   "outputs": [],
   "source": [
    "#>>>PROBLEM: I3S2.4.7\n",
    "# Use this cell for drafting your solution (if desired),\n",
    "# then enter your solution in the interactive problem online to be graded.\n",
    "\n",
    "pass"
   ]
  },
  {
   "cell_type": "markdown",
   "id": "467e91ca",
   "metadata": {
    "id": "467e91ca",
    "tags": [
     "learner",
     "md",
     "learner_chopped"
    ]
   },
   "source": [
    "### <span style=\"border:3px; border-style:solid; padding: 0.15em; border-color: #90409C; color: #90409C;\">I3S2.4.8 Indexing and Slicing 8</span>\n",
    "\n",
    "\n",
    "Try to determine the answer without entering the expression in python.\n",
    "\n",
    "For <tt>A = np.array([[5,7,10,14],[2,4,8,9]])</tt>, \n",
    "\n",
    "<tt>A[:,1] = </tt>"
   ]
  },
  {
   "cell_type": "code",
   "execution_count": null,
   "id": "6a1dcec3",
   "metadata": {
    "id": "6a1dcec3",
    "tags": [
     "py",
     "draft",
     "learner_chopped"
    ]
   },
   "outputs": [],
   "source": [
    "#>>>PROBLEM: I3S2.4.8\n",
    "# Use this cell for drafting your solution (if desired),\n",
    "# then enter your solution in the interactive problem online to be graded.\n",
    "\n",
    "pass"
   ]
  },
  {
   "cell_type": "markdown",
   "id": "d7af8363",
   "metadata": {
    "id": "d7af8363",
    "tags": [
     "learner",
     "md",
     "learner_chopped"
    ]
   },
   "source": [
    "### <span style=\"border:3px; border-style:solid; padding: 0.15em; border-color: #90409C; color: #90409C;\">I3S2.4.9 Indexing and Slicing 9</span>\n",
    "\n",
    "\n",
    "The difference between slicing and indexing is:\n",
    "\n",
    "1. Slicing preserves dimensionality while indexing does not.\n",
    "2. Indexing preserves dimensionality while slicing does not.\n",
    "3. Indexing is a dangerous sport for librarians.\n",
    "4. French chefs prefer slicing.\n",
    "\n"
   ]
  },
  {
   "cell_type": "markdown",
   "id": "4f2d93f1",
   "metadata": {
    "id": "4f2d93f1",
    "tags": [
     "learner",
     "md",
     "learner_chopped"
    ]
   },
   "source": [
    "<a name='section_2_5'></a>\n",
    "<hr style=\"height: 1px;\">\n",
    "\n",
    "## <h2 style=\"border:1px; border-style:solid; padding: 0.25em; color: #FFFFFF; background-color: #90409C\">I3S2.5 Practice with Functions</h2>   \n",
    "\n",
    "| [Top](#section_2_0) | [Previous Section](#section_2_4) | [Practice](#practice_2_5) | [Next Section](#section_2_6) |"
   ]
  },
  {
   "cell_type": "markdown",
   "id": "423722de",
   "metadata": {
    "id": "423722de",
    "tags": [
     "learner",
     "md",
     "learner_chopped"
    ]
   },
   "source": [
    "<a name='practice_2_5'></a>  \n",
    "\n",
    "### <span style=\"border:3px; border-style:solid; padding: 0.15em; border-color: #90409C; color: #90409C;\">I3S2.5.1 Practice with Functions 1</span>\n",
    "\n",
    "Write a function that takes a list of numbers `value_list` and returns a 2D numpy array representing a **row** vector containing those numbers. Recall that a row vector in our usage will have shape $(1, d)$ where $d$ is the number of elements in the row."
   ]
  },
  {
   "cell_type": "code",
   "execution_count": null,
   "id": "ec394815",
   "metadata": {
    "id": "ec394815",
    "tags": [
     "py",
     "draft",
     "learner_chopped"
    ]
   },
   "outputs": [],
   "source": [
    "#>>>PROBLEM: I3S2.5.1\n",
    "# Use this cell for drafting your solution (if desired),\n",
    "# then enter your solution in the interactive problem online to be graded.\n",
    "\n",
    "def rv(value_list):\n",
    "    return 0 #YOUR CODE HERE"
   ]
  },
  {
   "cell_type": "markdown",
   "id": "e057ba0d",
   "metadata": {
    "id": "e057ba0d",
    "tags": [
     "learner",
     "md",
     "learner_chopped"
    ]
   },
   "source": [
    "### <span style=\"border:3px; border-style:solid; padding: 0.15em; border-color: #90409C; color: #90409C;\">I3S2.5.2 Practice with Functions 2</span>\n",
    "\n",
    "Write a function that takes a list of numbers `value_list` and returns a 2D numpy array representing a **column** vector containing those numbers.  You can use the `rv` function that you just defined. Hint: use `np.transpose`."
   ]
  },
  {
   "cell_type": "code",
   "execution_count": null,
   "id": "883bbda4",
   "metadata": {
    "id": "883bbda4",
    "tags": [
     "py",
     "draft",
     "learner_chopped"
    ]
   },
   "outputs": [],
   "source": [
    "#>>>PROBLEM: I3S2.5.2\n",
    "# Use this cell for drafting your solution (if desired),\n",
    "# then enter your solution in the interactive problem online to be graded.\n",
    "\n",
    "def cv(value_list):\n",
    "    return 0 #YOUR CODE HERE"
   ]
  },
  {
   "cell_type": "markdown",
   "id": "ed10c930",
   "metadata": {
    "id": "ed10c930",
    "tags": [
     "learner",
     "md",
     "learner_chopped"
    ]
   },
   "source": [
    "### <span style=\"border:3px; border-style:solid; padding: 0.15em; border-color: #90409C; color: #90409C;\">I3S2.5.3 Practice with Functions 3</span>\n",
    "\n",
    "Write a function that takes a column vector and returns the vector's Euclidean length (or equivalently, its magnitude) as a scalar.  You may not use `np.linalg.norm`, and you may not use loops.\n",
    "\n",
    "Remember that the formula for the Euclidean length for a vector $\\mathbf{x}$ is:\n",
    "\n",
    "$$\n",
    "{\\rm length}(\\mathbf{x}) = \\sqrt{x_1^2 + x_2^2 + ... + x_n^2} \\\\\n",
    " = \\sqrt{\\sum_{i=1}^n{x^2_i}}\n",
    "$$"
   ]
  },
  {
   "cell_type": "code",
   "execution_count": null,
   "id": "5ba2923c",
   "metadata": {
    "id": "5ba2923c",
    "tags": [
     "py",
     "draft",
     "learner_chopped"
    ]
   },
   "outputs": [],
   "source": [
    "#>>>PROBLEM: I3S2.5.3\n",
    "# Use this cell for drafting your solution (if desired),\n",
    "# then enter your solution in the interactive problem online to be graded.\n",
    "\n",
    "def length(col_v):\n",
    "    return 0 #YOUR CODE HERE"
   ]
  },
  {
   "cell_type": "markdown",
   "id": "c8235922",
   "metadata": {
    "id": "c8235922",
    "tags": [
     "learner",
     "md",
     "learner_chopped"
    ]
   },
   "source": [
    "### <span style=\"border:3px; border-style:solid; padding: 0.15em; border-color: #90409C; color: #90409C;\">I3S2.5.4 Practice with Functions 4</span>\n",
    "\n",
    "Write a function that takes a column vector and returns a unit vector (a vector of length $1$) in the same direction. You may not use loops.  Use your `length` function defined above (you do not need to define it again)."
   ]
  },
  {
   "cell_type": "code",
   "execution_count": null,
   "id": "e0e9e670",
   "metadata": {
    "id": "e0e9e670",
    "tags": [
     "py",
     "draft",
     "learner_chopped"
    ]
   },
   "outputs": [],
   "source": [
    "#>>>PROBLEM: I3S2.5.4\n",
    "# Use this cell for drafting your solution (if desired),\n",
    "# then enter your solution in the interactive problem online to be graded.\n",
    "\n",
    "def normalize(col_v):\n",
    "    return 0 #YOUR CODE HERE"
   ]
  },
  {
   "cell_type": "markdown",
   "id": "7794ac79",
   "metadata": {
    "id": "7794ac79",
    "tags": [
     "learner",
     "md",
     "learner_chopped"
    ]
   },
   "source": [
    "### <span style=\"border:3px; border-style:solid; padding: 0.15em; border-color: #90409C; color: #90409C;\">I3S2.5.5 Practice with Functions 5</span>\n",
    "\n",
    "Write a function that takes a 2D array `A` and returns the final column as a two dimensional array. You may not use loops. Reminder: negative indices are interpreted as counting from the end of the array."
   ]
  },
  {
   "cell_type": "code",
   "execution_count": null,
   "id": "8dde7b53",
   "metadata": {
    "id": "8dde7b53",
    "tags": [
     "py",
     "draft",
     "learner_chopped"
    ]
   },
   "outputs": [],
   "source": [
    "#>>>PROBLEM: I3S2.5.5\n",
    "# Use this cell for drafting your solution (if desired),\n",
    "# then enter your solution in the interactive problem online to be graded.\n",
    "\n",
    "def index_final_col(A):\n",
    "    return 0 #YOUR CODE HERE"
   ]
  },
  {
   "cell_type": "markdown",
   "id": "83326e30",
   "metadata": {
    "id": "83326e30",
    "tags": [
     "learner",
     "md",
     "learner_chopped"
    ]
   },
   "source": [
    "<a name='section_2_6'></a>\n",
    "<hr style=\"height: 1px;\">\n",
    "\n",
    "## <h2 style=\"border:1px; border-style:solid; padding: 0.25em; color: #FFFFFF; background-color: #90409C\">I3S2.6 Working Through Unknowns</h2>    \n",
    "\n",
    "| [Top](#section_2_0) | [Previous Section](#section_2_5) | [Practice](#practice_2_6)| [Next Section](#section_2_7)|\n"
   ]
  },
  {
   "cell_type": "markdown",
   "id": "1b873c08",
   "metadata": {
    "id": "1b873c08",
    "tags": [
     "learner",
     "md",
     "learner_chopped"
    ]
   },
   "source": [
    "<a name='practice_2_6'></a> \n",
    "\n",
    "### <span style=\"border:3px; border-style:solid; padding: 0.15em; border-color: #90409C; color: #90409C;\">I3S2.6.1 Trouble-Shooting</span>\n",
    "\n",
    "Check all of the following that are helpful when debugging code:\n",
    "\n",
    "\n",
    "1. Read the problem carefully, and write down any relevant equations or pseudocode.\n",
    "\n",
    "2. Google the error and/or check StackOverflow.\n",
    "\n",
    "3. Stare at the screen and hope that the solution dawns on me.\n",
    "\n",
    "4. Identify which line of code is causing errors -- <tt>print()</tt> statements are helpful for this.\n",
    "\n",
    "5. Check that I'm using the right type of matrix multiplication (* vs @ vs <tt>np.dot()</tt>).\n",
    "\n",
    "6. Check that I'm performing an operation over the correct axis (row or column).\n",
    "\n",
    "7. Read documentation to ensure I am using the function correctly.\n",
    "\n",
    "8. Cry and/or scream into the void.\n",
    "\n",
    "9. Work out a small example by hand and ensure my code is giving the correct results at each intermediate step.\n",
    "\n",
    "10. Add a `.T` at the end of a few random variables.\n",
    "\n",
    "11. Explain my code to a friend using common language.\n",
    "\n",
    "12. Check dimensions of my variables by printing their shapes.\n",
    "\n",
    "13. Print out intermediate results in the code, and if using the online code-boxes, find the printed results by clicking the \\'Show/Hide Detailed Results\\'\"]\n",
    "\n"
   ]
  },
  {
   "cell_type": "markdown",
   "id": "ff2b33e8",
   "metadata": {
    "id": "ff2b33e8",
    "tags": [
     "learner",
     "md",
     "learner_chopped"
    ]
   },
   "source": [
    "<a name='section_2_7'></a>\n",
    "<hr style=\"height: 1px;\">\n",
    "\n",
    "## <h2 style=\"border:1px; border-style:solid; padding: 0.25em; color: #FFFFFF; background-color: #90409C\">I3S2.7 How to Find Functions in Libraries</h2>    \n",
    "\n",
    "| [Top](#section_2_0) | [Previous Section](#section_2_6) | [Practice](#practice_2_7) |"
   ]
  },
  {
   "cell_type": "code",
   "execution_count": null,
   "id": "634dc96d",
   "metadata": {
    "id": "634dc96d",
    "tags": [
     "learner",
     "py",
     "catsoop_07",
     "learner_chopped"
    ]
   },
   "outputs": [],
   "source": [
    "#>>>RUN: I3S2.7-runcell01\n",
    "\n",
    "# Some data points we want to fit a line to\n",
    "import matplotlib.pyplot as plt\n",
    "\n",
    "x = [1,2,3,4,5,6,7,8,9,10]\n",
    "y = [1.2, 1.8, 2.2, 4.3, 5.6, 6.5, 7.2, 8.2, 8.8, 11.4]\n",
    "\n",
    "plt.scatter(x, y) # show a scatter plot\n",
    "plt.show()"
   ]
  },
  {
   "cell_type": "code",
   "execution_count": null,
   "id": "x6LM3yb_D_AC",
   "metadata": {
    "id": "x6LM3yb_D_AC",
    "tags": [
     "py",
     "castoop_07",
     "learner",
     "learner_chopped"
    ]
   },
   "outputs": [],
   "source": [
    "#>>>RUN: I3S2.7-runcell02\n",
    "\n",
    "import scipy as sp\n",
    "\n",
    "print(sp.__version__)"
   ]
  },
  {
   "cell_type": "code",
   "execution_count": null,
   "id": "AXFf4ww5GdJk",
   "metadata": {
    "id": "AXFf4ww5GdJk",
    "tags": [
     "py",
     "castoop_07",
     "learner_chopped"
    ]
   },
   "outputs": [],
   "source": [
    "#>>>RUN: I3S2.7-runcell03\n",
    "\n",
    "import scipy.stats as stats\n",
    "\n",
    "print(\"scipy.__version__ works:\")\n",
    "\n",
    "print(scipy.__version__)\n",
    "\n",
    "print(\"stats.__version__ doesn't:\")\n",
    "\n",
    "print(stats.__version__)"
   ]
  },
  {
   "cell_type": "code",
   "execution_count": null,
   "id": "c0f97244",
   "metadata": {
    "id": "c0f97244",
    "tags": [
     "learner",
     "py",
     "catsoop_07",
     "learner_chopped"
    ]
   },
   "outputs": [],
   "source": [
    "#>>>RUN: I3S2.7-runcell04\n",
    "\n",
    "import scipy.stats # our function was under scipy.stats\n",
    "import numpy as np\n",
    "\n",
    "x = [1,2,3,4,5,6,7,8,9,10]\n",
    "y = [1.2, 1.8, 2.2, 4.3, 5.6, 6.5, 7.2, 8.2, 8.8, 11.4]\n",
    "\n",
    "# here our data is two lists, so we use both the x and y inputs.\n",
    "#we leave 'alternative' as its default\n",
    "result = scipy.stats.linregress(x, y)\n",
    "\n",
    "# we want to see the slope and intercept of the line\n",
    "# these were in the 'slope' and 'intercept' attributes of a Linregressresult\n",
    "m = result.slope \n",
    "b = result.intercept\n",
    "\n",
    "# create a function for a straight line fit\n",
    "#this multiplies elements of x by m, and adds b to each\n",
    "y_predicted = m * np.array(x) + b\n",
    "\n",
    "# now let's plot it together\n",
    "plt.scatter(x,y)\n",
    "plt.plot(x, y_predicted)\n",
    "plt.show()"
   ]
  },
  {
   "cell_type": "markdown",
   "id": "9e25d39b",
   "metadata": {
    "id": "9e25d39b",
    "tags": [
     "learner",
     "md",
     "learner_chopped"
    ]
   },
   "source": [
    "<a name='practice_2_7'></a> \n",
    "\n",
    "### <span style=\"border:3px; border-style:solid; padding: 0.15em; border-color: #90409C; color: #90409C;\">I3S2.7.1 SciPy Example</span>\n",
    "\n",
    "Navigate the SciPy documentation to figure out how to use SciPy to compute the geometric mean of the list of numbers below. Alternatively (and in this case more easily), search from your browser. Do not use any `numpy` functions.\n",
    "\n",
    "Complete the code below. We've included a line that prints the output of the function but, as mentioned previously, such a line will typically **not** be included in the starting version of the code you are given.\n",
    "\n",
    "*Hint 1: The relevant function is contained in scipy.stats. Try to find the documentation page yourself.*\n",
    "\n",
    "*Hint 2: If you're having trouble finding it, the relevant documentation page is <a href=\"https://docs.scipy.org/doc/scipy/reference/generated/scipy.stats.gmean.html#scipy.stats.gmean\" target=\"_blank\">here.</a>*\n",
    "\n",
    "\n"
   ]
  },
  {
   "cell_type": "code",
   "execution_count": null,
   "id": "868aa16e",
   "metadata": {
    "id": "868aa16e",
    "tags": [
     "draft",
     "py",
     "learner_chopped"
    ]
   },
   "outputs": [],
   "source": [
    "#>>>PRACTICE: I3S2.7.1\n",
    "\n",
    "# Use this cell for drafting your solution (if desired),\n",
    "# then enter your solution in the interactive problem online to be graded.\n",
    "import scipy.stats\n",
    "\n",
    "numbers = [1,2,3,4,5]\n",
    "\n",
    "def calc_weighted_geometric_mean(x_vals):\n",
    "    return 0\n",
    "\n",
    "#OUTPUT\n",
    "wgmean = calc_weighted_geometric_mean(numbers)\n",
    "print('weighted geometric mean:',wgmean)"
   ]
  }
 ],
 "metadata": {
  "celltoolbar": "Tags",
  "kernelspec": {
   "display_name": "Python 3 (ipykernel)",
   "language": "python",
   "name": "python3"
  },
  "language_info": {
   "codemirror_mode": {
    "name": "ipython",
    "version": 3
   },
   "file_extension": ".py",
   "mimetype": "text/x-python",
   "name": "python",
   "nbconvert_exporter": "python",
   "pygments_lexer": "ipython3",
   "version": "3.10.9"
  }
 },
 "nbformat": 4,
 "nbformat_minor": 5
}
