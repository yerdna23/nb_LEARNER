{
 "cells": [
  {
   "cell_type": "markdown",
   "id": "56bc135c",
   "metadata": {
    "tags": [
     "learner",
     "learner_chopped"
    ]
   },
   "source": [
    "<!--start-block-->\n",
    "<hr style=\"height: 1px;\">\n",
    "<i>This notebook was authored by the 8.S50x Course Team, Copyright 2022 MIT All Rights Reserved.</i>\n",
    "<hr style=\"height: 1px;\">\n",
    "<br>\n",
    "\n",
    "<h1>Lesson 1: Probability Distributions, Simple Plots, and Expectation Values</h1>\n",
    "\n",
    "<br>"
   ]
  },
  {
   "cell_type": "markdown",
   "id": "61a9aece",
   "metadata": {
    "tags": [
     "learner",
     "learner_chopped"
    ]
   },
   "source": [
    "<!--start-block-->\n",
    "<a name='section_1_0'></a>\n",
    "<hr style=\"height: 1px;\">\n",
    "\n",
    "\n",
    "## <h2 style=\"border:1px; border-style:solid; padding: 0.25em; color: #FFFFFF; background-color: #90409C\">L1.0 Overview</h2>"
   ]
  },
  {
   "cell_type": "markdown",
   "id": "f8dd8d30",
   "metadata": {
    "tags": [
     "learner",
     "learner_chopped"
    ]
   },
   "source": [
    "<h3>Navigation</h3>\n",
    "          \n",
    "<table style=\"width:100%\">\n",
    "    <tr>\n",
    "        <td style=\"text-align: left; vertical-align: top; font-size: 10pt;\"><a href=\"#section_1_1\">L1.1 Arrays, Functions, and Simple Plots</a></td>\n",
    "        <td style=\"text-align: left; vertical-align: top; font-size: 10pt;\"><a href=\"#exercises_1_1\">L1.1 Exercises</a></td>\n",
    "    </tr>\n",
    "    <tr>\n",
    "        <td style=\"text-align: left; vertical-align: top; font-size: 10pt;\"><a href=\"#section_1_2\">L1.2 Simulated Data and Histograms</a></td>\n",
    "        <td style=\"text-align: left; vertical-align: top; font-size: 10pt;\"><a href=\"#exercises_1_2\">L1.2 Exercises</a></td>\n",
    "    </tr>\n",
    "    <tr>\n",
    "        <td style=\"text-align: left; vertical-align: top; font-size: 10pt;\"><a href=\"#section_1_3\">L1.3 Sampling Events</a></td>\n",
    "        <td style=\"text-align: left; vertical-align: top; font-size: 10pt;\"><a href=\"#exercises_1_3\">L1.3 Exercises</a></td>\n",
    "    </tr>\n",
    "    <tr>\n",
    "        <td style=\"text-align: left; vertical-align: top; font-size: 10pt;\"><a href=\"#section_1_4\">L1.4 Expectation and Variance</a></td>\n",
    "        <td style=\"text-align: left; vertical-align: top; font-size: 10pt;\"><a href=\"#exercises_1_4\">L1.4 Exercises</a></td>\n",
    "    </tr>\n",
    "    <tr>\n",
    "        <td style=\"text-align: left; vertical-align: top; font-size: 10pt;\"><a href=\"#section_1_5\">L1.5 Sum of Two Distributions Continued</a></td>\n",
    "        <td style=\"text-align: left; vertical-align: top; font-size: 10pt;\"><a href=\"#exercises_1_5\">L1.5 Exercises</a></td>\n",
    "    </tr>\n",
    "    <tr>\n",
    "        <td style=\"text-align: left; vertical-align: top; font-size: 10pt;\"><a href=\"#section_1_6\">L1.6 Generalizing to Many Measurements</a></td>\n",
    "        <td style=\"text-align: left; vertical-align: top; font-size: 10pt;\"><a href=\"#exercises_1_6\">L1.6 Exercises</a></td>\n",
    "    </tr>\n",
    "</table>\n",
    "\n",
    "<!--end-block-->"
   ]
  },
  {
   "cell_type": "code",
   "execution_count": null,
   "id": "c3c5c1f5",
   "metadata": {
    "tags": [
     "learner",
     "learner_chopped"
    ]
   },
   "outputs": [],
   "source": [
    "#>>>RUN: L1.0-runcell01\n",
    "\n",
    "\"\"\"\n",
    "This code needs to be run once per session. If you get an error message of the form:\n",
    "\n",
    "--NameError: name 'np' is not defined--\n",
    "\n",
    "when running a later code segment, that means that this initialization code needs to be run.\n",
    "\"\"\"\n",
    "\n",
    "#import sys\n",
    "#we will install the core packages here\n",
    "#!{sys.executable} -m pip install numpy\n",
    "#!{sys.executable} -m pip install matplotlib\n",
    "#!{sys.executable} -m pip install scipy\n",
    "\n",
    "#to load python packages, simply import them (with optional nicknames)\n",
    "import numpy as np                 #https://numpy.org/doc/stable/\n",
    "import matplotlib.pyplot as plt    #https://matplotlib.org/stable/api/_as_gen/matplotlib.pyplot.html\n",
    "import scipy.stats as stats        #https://docs.scipy.org/doc/scipy/reference/stats.html\n",
    "import csv                         #https://docs.python.org/3/library/csv.html "
   ]
  },
  {
   "cell_type": "code",
   "execution_count": null,
   "id": "b3f70756",
   "metadata": {
    "tags": [
     "learner",
     "learner_chopped"
    ]
   },
   "outputs": [],
   "source": [
    "#>>>RUN: L1.0-runcell02\n",
    "\n",
    "#set plot resolution\n",
    "%config InlineBackend.figure_format = 'retina'\n",
    "\n",
    "#set default figure parameters\n",
    "plt.rcParams['figure.figsize'] = (9,6)\n",
    "\n",
    "medium_size = 12\n",
    "large_size = 15\n",
    "\n",
    "plt.rc('font', size=medium_size)          # default text sizes\n",
    "plt.rc('xtick', labelsize=medium_size)    # xtick labels\n",
    "plt.rc('ytick', labelsize=medium_size)    # ytick labels\n",
    "plt.rc('legend', fontsize=medium_size)    # legend\n",
    "plt.rc('axes', titlesize=large_size)      # axes title\n",
    "plt.rc('axes', labelsize=large_size)      # x and y labels\n",
    "plt.rc('figure', titlesize=large_size)    # figure title"
   ]
  },
  {
   "cell_type": "markdown",
   "id": "be4857af",
   "metadata": {
    "tags": [
     "learner",
     "learner_chopped"
    ]
   },
   "source": [
    "<!--start-block-->\n",
    "<a name='section_1_1'></a>\n",
    "<hr style=\"height: 1px;\">\n",
    "\n",
    "## <h2 style=\"border:1px; border-style:solid; padding: 0.25em; color: #FFFFFF; background-color: #90409C\">L1.1 Arrays, Functions, and Simple Plots</h2>    \n",
    "    \n",
    "| [Top](#section_1_0) | [Previous Section](#section_1_0) | [Exercises](#exercises_1_1) | [Next Section](#section_1_2) |"
   ]
  },
  {
   "cell_type": "code",
   "execution_count": null,
   "id": "dc2cc685",
   "metadata": {
    "tags": [
     "learner",
     "learner_chopped",
     "lect_01"
    ]
   },
   "outputs": [],
   "source": [
    "#>>>RUN: L1.1-runcell01\n",
    "\n",
    "x = np.linspace(start=-4, stop=4, num=5) # make an array of 5 numbers, evenly spaced from -4 to 4\n",
    "y = np.sin(x) # take the sine of each element of x, to get a new array, y\n",
    "\n",
    "print(\"x: \", x)\n",
    "print(\"y: \", y)\n",
    "\n",
    "#Try changing the array to include the range [-10,10]"
   ]
  },
  {
   "cell_type": "code",
   "execution_count": null,
   "id": "c6cda960",
   "metadata": {
    "tags": [
     "learner",
     "learner_chopped",
     "lect_01"
    ]
   },
   "outputs": [],
   "source": [
    "#>>>RUN: L1.1-runcell02\n",
    "\n",
    "plt.plot(x, y, label='sin') # initialize the plot\n",
    "plt.show() # put on screen"
   ]
  },
  {
   "cell_type": "code",
   "execution_count": null,
   "id": "605ceb84",
   "metadata": {
    "tags": [
     "learner",
     "learner_chopped",
     "lect_01"
    ]
   },
   "outputs": [],
   "source": [
    "#>>>RUN: L1.1-runcell03\n",
    "\n",
    "#First we define an array for our x data \n",
    "x = np.linspace(start=-4, stop=4, num=100)\n",
    "\n",
    "#evaluate the data using a normal distribution from scipy\n",
    "mu = 0\n",
    "std = 1\n",
    "y = stats.norm.pdf(x, mu, std) \n",
    "\n",
    "\n",
    "#plotting-------------------\n",
    "#plot size\n",
    "#fig, ax = plt.subplots(figsize=(9,6)) #optionally set the figure size here\n",
    "\n",
    "#plot data\n",
    "plt.plot(x, np.sin(x), label='sin')\n",
    "plt.plot(x, np.cos(x), label='cos')\n",
    "plt.plot(x, y,label='normal distribution')\n",
    "\n",
    "#plot labels and style\n",
    "plt.title('Simple Plots of Common Functions', fontsize=15)\n",
    "plt.legend(loc='lower right', fontsize = 12)\n",
    "plt.xlabel('x', fontsize=15) #Label x\n",
    "plt.ylabel('f(x)', fontsize=15)#Label y\n",
    "\n",
    "# changing the fontsize of ticks\n",
    "plt.xticks(fontsize=12)\n",
    "plt.yticks(fontsize=12)\n",
    "\n",
    "# a grid\n",
    "plt.grid()\n",
    "plt.show()"
   ]
  },
  {
   "cell_type": "markdown",
   "id": "9f22eb7f",
   "metadata": {
    "tags": [
     "learner",
     "learner_chopped"
    ]
   },
   "source": [
    "<a name='exercises_1_1'></a>\n",
    "\n",
    "| [Top](#section_1_0) | [Restart Section](#section_1_1) | [Next Section](#section_1_2) |"
   ]
  },
  {
   "cell_type": "markdown",
   "id": "a2237419",
   "metadata": {
    "tags": [
     "learner",
     "learner_chopped"
    ]
   },
   "source": [
    "<!--start-block-->\n",
    "### <span style=\"border:3px; border-style:solid; padding: 0.15em; border-color: #90409C; color: #90409C;\">Ex-1.1.1: Exponential Function</span>\n",
    "\n",
    "Define a function that returns the exponential of an array, using numpy.\n",
    "\n",
    "To check your answer, see if the output of your function `exp_func(x)` is equal to `e` for `x=1`. The \"starting\" code cell below includes a line at the end which does this check for you. This \"check\" is not graded.\n",
    "\n",
    "**Note:** Checks like this will **not** be included in the \"starting\" code for many of the problems in this course. While drafting your answers, you will need to think of the best way to do these checks yourself. Consider how to determine whether your code is correct."
   ]
  },
  {
   "cell_type": "markdown",
   "id": "75b67e38",
   "metadata": {
    "tags": [
     "learner",
     "learner_chopped",
     "8S50x"
    ]
   },
   "source": [
    "**Reminder:** You can edit or create and then run code cells in this notebook in order to help you find a solution to all of the problems in this course. However, your final answers **must** always be submitted on MITx."
   ]
  },
  {
   "cell_type": "code",
   "execution_count": null,
   "id": "e047bb79",
   "metadata": {
    "scrolled": true,
    "tags": [
     "draft"
    ]
   },
   "outputs": [],
   "source": [
    "#>>>EXERCISE: L1.1.1\n",
    "# Use this cell for drafting your solution (if desired),\n",
    "# then enter your solution in the interactive problem online to be graded.\n",
    "\n",
    "def exp_func(x):\n",
    "    return 0\n",
    "\n",
    "\n",
    "if exp_func(1) == 2.718281828459045:\n",
    "    print('correct')\n",
    "else:\n",
    "    print('incorrect')"
   ]
  },
  {
   "cell_type": "markdown",
   "id": "04f910cb",
   "metadata": {
    "tags": [
     "learner",
     "learner_chopped"
    ]
   },
   "source": [
    "### <span style=\"border:3px; border-style:solid; padding: 0.15em; border-color: #90409C; color: #90409C;\">Ex-1.1.2: Plotting Etiquette</span>\n",
    "\n",
    "Which of the following functions will generate a plot that satisfies all criteria of good plotting etiquette? Try running each function in your Jupyter notebook.\n",
    "\n",
    "**Note:** This code uses your previously defined exponential function. If you are starting a new session with this exercise, you **must** rerun that code to redefine it."
   ]
  },
  {
   "cell_type": "markdown",
   "id": "d544d93b",
   "metadata": {
    "tags": [
     "learner",
     "learner_chopped",
     "8S50x"
    ]
   },
   "source": [
    "**Reminder:** Your final answers **must** always be submitted on MITx."
   ]
  },
  {
   "cell_type": "code",
   "execution_count": null,
   "id": "aa42cee7",
   "metadata": {
    "scrolled": true,
    "tags": [
     "draft"
    ]
   },
   "outputs": [],
   "source": [
    "#>>>EXERCISE: L1.1.2\n",
    "\n",
    "def plot1(x):\n",
    "    #plotting-------------------\n",
    "    #plot data\n",
    "    plt.plot(x, exp_func(x))\n",
    "\n",
    "    #plot labels and style\n",
    "    plt.xlabel('x', fontsize=15) #Label x\n",
    "    plt.ylabel('exp(x)', fontsize=15)#Label y\n",
    "\n",
    "    # changing the fontsize of ticks\n",
    "    plt.xticks(fontsize=12)\n",
    "    plt.yticks(fontsize=12)\n",
    "    \n",
    "    plt.show()\n",
    "    \n",
    "\n",
    "def plot2(x):\n",
    "    #plotting-------------------\n",
    "    #plot data\n",
    "    plt.plot(x, exp_func(x), label='exp(x)')\n",
    "\n",
    "    #plot labels and style\n",
    "    plt.title('Exponential Function', fontsize=15)\n",
    "    plt.legend(loc='lower right', fontsize = 12)\n",
    "    plt.xlabel('x', fontsize=15) #Label x\n",
    "    plt.ylabel('exp(x)', fontsize=15)#Label y\n",
    "\n",
    "    # changing the fontsize of ticks\n",
    "    plt.xticks(fontsize=12)\n",
    "    plt.yticks(fontsize=12)\n",
    "\n",
    "    # a grid\n",
    "    plt.grid()\n",
    "    plt.show()\n",
    "    \n",
    "    \n",
    "def plot3(x):\n",
    "    #plotting-------------------\n",
    "    #plot data\n",
    "    plt.plot(x, exp_func(x), label='exp(x)')\n",
    "\n",
    "    #plot labels and style\n",
    "    plt.title('Exponential Function', fontsize = 8)\n",
    "    plt.legend(loc='lower right', fontsize = 8)\n",
    "    plt.xlabel('x', fontsize=8) #Label x\n",
    "    plt.ylabel('exp(x)', fontsize=8)#Label y\n",
    "\n",
    "    # changing the fontsize of ticks\n",
    "    plt.xticks(fontsize=8)\n",
    "    plt.yticks(fontsize=8)\n",
    "\n",
    "    # a grid\n",
    "    plt.grid()\n",
    "    plt.show()\n",
    "\n",
    "\n",
    "x = np.linspace(start=0, stop=10, num=100)\n",
    "plot1(x)\n",
    "plot2(x)\n",
    "plot3(x)"
   ]
  },
  {
   "cell_type": "markdown",
   "id": "60d2f2d0",
   "metadata": {
    "tags": [
     "learner",
     "learner_chopped"
    ]
   },
   "source": [
    ">#### Follow-up 1.1.1a (ungraded)\n",
    ">   \n",
    ">Change the range of the plot and/or try plotting with a different number of data points."
   ]
  },
  {
   "cell_type": "markdown",
   "id": "a0b94c9d",
   "metadata": {
    "tags": [
     "learner",
     "learner_chopped"
    ]
   },
   "source": [
    "<!--start-block-->\n",
    "<a name='section_1_2'></a>\n",
    "<hr style=\"height: 1px;\">\n",
    "\n",
    "## <h2 style=\"border:1px; border-style:solid; padding: 0.25em; color: #FFFFFF; background-color: #90409C\">L1.2 Simulated Data and Histograms</h2>\n",
    "    \n",
    "| [Top](#section_1_0) | [Previous Section](#section_1_1) | [Exercises](#exercises_1_2) | [Next Section](#section_1_3) |\n",
    "\n",
    "</br>"
   ]
  },
  {
   "cell_type": "code",
   "execution_count": null,
   "id": "d6bf9a24",
   "metadata": {
    "tags": [
     "learner",
     "learner_chopped",
     "lect_02"
    ]
   },
   "outputs": [],
   "source": [
    "#>>>RUN: L1.2-runcell01\n",
    "\n",
    "#Randomly choose 1000 events between 0 and 10\n",
    "bkg = np.random.uniform(0,10, 1000) \n",
    "\n",
    "#ALTERNATIVELY\n",
    "#Randomly choose 1000 events from a normal distribution with mean 0 and standard deviation 1\n",
    "#bkg = np.random.normal(0, 1, 1000) # uncomment to run\n",
    "\n",
    "#If you want to see the output, uncomment the line below. It's a good idea to\n",
    "# change the number of events to something less than 1000 first. Don't forget to\n",
    "# change it back to 1000 and rerun the code before going on to the next step.\n",
    "#print(bkg)"
   ]
  },
  {
   "cell_type": "code",
   "execution_count": null,
   "id": "245a55c6",
   "metadata": {
    "scrolled": true,
    "tags": [
     "learner",
     "learner_chopped",
     "lect_02"
    ]
   },
   "outputs": [],
   "source": [
    "#>>>RUN: L1.2-runcell02\n",
    "\n",
    "#Now let's make a histogram\n",
    "histy, bin_edges = np.histogram(bkg, bins=20)\n",
    "bin_centers = 0.5*(bin_edges[1:] + bin_edges[:-1])\n",
    "\n",
    "                            \n",
    "#plotting-------------------\n",
    "#plot size\n",
    "#fig, ax = plt.subplots(figsize=(9,6)) #optionally set the figure size here\n",
    "\n",
    "#plot data and axes limits\n",
    "plt.plot(bin_centers,histy,drawstyle = 'steps-mid')\n",
    "plt.ylim(0,100) #You will need to change this for a normal distribution\n",
    "#ax.set_ylim([0,100]) #set the y-range of ax to be 0 to 100, if using ax\n",
    "\n",
    "#plot labels and style\n",
    "plt.xlabel('x', fontsize=15) #Label x\n",
    "plt.ylabel('N samples', fontsize=15) #Label y\n",
    "plt.xticks(fontsize=12)\n",
    "plt.yticks(fontsize=12)\n",
    "plt.show()"
   ]
  },
  {
   "cell_type": "markdown",
   "id": "2eeceab5",
   "metadata": {
    "tags": [
     "learner",
     "learner_chopped"
    ]
   },
   "source": [
    "<a name='exercises_1_2'></a>\n",
    "\n",
    "| [Top](#section_1_0) | [Restart Section](#section_1_2) | [Next Section](#section_1_3) |"
   ]
  },
  {
   "cell_type": "markdown",
   "id": "7760a83d",
   "metadata": {
    "tags": [
     "learner",
     "learner_chopped"
    ]
   },
   "source": [
    "<!--start-block-->\n",
    "### <span style=\"border:3px; border-style:solid; padding: 0.15em; border-color: #90409C; color: #90409C;\">Ex-1.2.1: Integral of a Histogram</span>\n",
    "\n",
    "What is the integral of the histogram in the previous example, a uniform distribution sampled 1000 times? You can add to the code below to calculate your answer, or you may determine the result without computation.\n",
    "\n",
    "Enter a number for your answer."
   ]
  },
  {
   "cell_type": "markdown",
   "id": "6afc3cbc",
   "metadata": {
    "tags": [
     "learner",
     "learner_chopped",
     "8S50x"
    ]
   },
   "source": [
    "**Reminder:** Your final answers **must** always be submitted on MITx."
   ]
  },
  {
   "cell_type": "code",
   "execution_count": null,
   "id": "8a8080ef",
   "metadata": {
    "tags": [
     "draft",
     "learner_chooped"
    ]
   },
   "outputs": [],
   "source": [
    "#>>>EXERCISE: L1.2.1\n",
    "# Use this cell for drafting your solution (if desired),\n",
    "# then enter your solution in the interactive problem online to be graded.\n",
    "\n",
    "#Randomly choose 1000 events between 0 and 10\n",
    "bkg = np.random.uniform(0,10, 1000) \n",
    "histy, bin_edges = np.histogram(bkg, bins=20)\n",
    "\n",
    "integral = 0 #complete the code\n",
    "sum([histy[i] * bin_centers[i]*2 for i in range(len(histy)])\n",
    "\n",
    "print(\"Integral:\",integral)"
   ]
  },
  {
   "cell_type": "markdown",
   "id": "0de46f70",
   "metadata": {
    "tags": [
     "learner",
     "learner_chopped"
    ]
   },
   "source": [
    "### <span style=\"border:3px; border-style:solid; padding: 0.15em; border-color: #90409C; color: #90409C;\">Ex-1.2.2: Number of Bins</span>\n",
    "\n",
    "The number of bins you choose for a histogram can have an outsized impact on its visual quality and information content. Poor quality can result from having both too many and too few bins. Below, we provide code to sample from a uniform distribution. Add code to plot a histogram of the samples, and try it with 3 bins, 10 bins, and 100 bins. You may find it easiest to copy and then edit lines from previous code cells. You might also want to try `matplotlib.pyplot.hist`.\n",
    "\n",
    "Which number of bins produces the most sensible histogram: 3, 10, or 1000?"
   ]
  },
  {
   "cell_type": "markdown",
   "id": "9fd9563f",
   "metadata": {
    "tags": [
     "learner",
     "learner_chopped",
     "8S50x"
    ]
   },
   "source": [
    "**Reminder:** Your final answers **must** always be submitted on MITx."
   ]
  },
  {
   "cell_type": "code",
   "execution_count": null,
   "id": "d3c4f137",
   "metadata": {
    "tags": [
     "draft",
     "learner_chopped"
    ]
   },
   "outputs": [],
   "source": [
    "#>>>EXERCISE: L1.2.2\n",
    "#Randomly choose 1000 events between 0 and 10, with set RNG seed\n",
    "np.random.seed(0) # makes the random numbers stay the same between runs\n",
    "samples = np.random.uniform(0, 10, 1000) \n",
    "\n",
    "# Below, write code to make a histogram, and try with 3, 10, and 1000 bins"
   ]
  },
  {
   "cell_type": "markdown",
   "id": "62297afa",
   "metadata": {
    "tags": [
     "learner",
     "learner_chopped"
    ]
   },
   "source": [
    ">#### Follow-up 1.2.2a (ungraded)\n",
    ">   \n",
    ">Sample a uniform distribution from 0 to 5 and plot it with 11 bins. Use the starting code below."
   ]
  },
  {
   "cell_type": "code",
   "execution_count": null,
   "id": "0cfe0585",
   "metadata": {
    "tags": [
     "draft",
     "learner_chopped"
    ]
   },
   "outputs": [],
   "source": [
    "#>>>FOLLOW-UP: L1.2.2a\n",
    "# Use this cell for drafting your solution (if desired)\n",
    "\n",
    "bkg = 0 #your code here\n",
    "histy, bin_edges = 0 #your code here\n",
    "#make sure to plot it with bin centers, not bin edges!\n",
    "plt.show()"
   ]
  },
  {
   "cell_type": "markdown",
   "id": "2f43cda5",
   "metadata": {
    "tags": [
     "learner",
     "learner_chopped"
    ]
   },
   "source": [
    ">#### Follow-up 1.2.2b (ungraded)\n",
    ">   \n",
    ">Change the code in `L1.2-runcell01`, so that you draw 10000 samples from a normal distribution. How is the histogram different? You may have to change some parameters of your plot to fit the data appropriately. Try other values."
   ]
  },
  {
   "cell_type": "markdown",
   "id": "27fdc171",
   "metadata": {
    "tags": [
     "learner",
     "learner_chopped"
    ]
   },
   "source": [
    "<!--start-block-->\n",
    "<a name='section_1_3'></a>\n",
    "<hr style=\"height: 1px;\">\n",
    "\n",
    "## <h2 style=\"border:1px; border-style:solid; padding: 0.25em; color: #FFFFFF; background-color: #90409C\">L1.3 Sampling events</h2>\n",
    "    \n",
    "| [Top](#section_1_0) | [Previous Section](#section_1_2) | [Exercises](#exercises_1_3) | [Next Section](#section_1_4) |"
   ]
  },
  {
   "cell_type": "code",
   "execution_count": null,
   "id": "332bfd95",
   "metadata": {
    "tags": [
     "learner",
     "learner_chopped",
     "lect_03"
    ]
   },
   "outputs": [],
   "source": [
    "#>>>RUN: L1.3-runcell01\n",
    "\n",
    "#Let's sample a uniform distribution 10k times each\n",
    "bkg1 = np.random.uniform(0,10, 10000)\n",
    "bkg2 = np.random.uniform(0,10, 10000) #this outputs an array of 10,000\n",
    "\n",
    "#Now we sum them\n",
    "data = bkg1 + bkg2 #since bkg1 and 2 are numpy arrays, doing this adds element-wise (called \"broadcasting\")\n",
    "\n",
    "\n",
    "def getHist(data):\n",
    "    \"\"\"Get hist y values, bin edges, and bin centers as np arrays\"\"\"\n",
    "    histy, bin_edges = np.histogram(data, bins=100)\n",
    "    bin_centers = 0.5*(bin_edges[1:] + bin_edges[:-1])\n",
    "    return (histy, bin_edges, bin_centers)\n",
    "\n",
    "def plotData(data):\n",
    "    #plotting-------------------\n",
    "    #plot size\n",
    "    #fig, ax = plt.subplots(figsize=(9,6)) #optionally set the figure size here\n",
    "    \n",
    "    #plot data\n",
    "    histy, bin_edges, bin_centers = getHist(data)\n",
    "    plt.plot(bin_centers,histy,drawstyle = 'steps-mid')\n",
    "    \n",
    "    #plot labels and style\n",
    "    plt.xlabel('x', fontsize=15) #Label x\n",
    "    plt.ylabel('N samples', fontsize=15) #Label y\n",
    "    plt.xticks(fontsize=12)\n",
    "    plt.yticks(fontsize=12)\n",
    "    plt.show()\n",
    "\n",
    "def plotDataNormalized(data):\n",
    "    histy, bin_edges, bin_centers = getHist(data)\n",
    "    # normalize the hist y values to the total number of samples (integral)\n",
    "    integral = len(data)\n",
    "    norm_histy = histy / integral # again, division is broadcast to elements of histy\n",
    "    plt.plot(bin_centers,norm_histy,drawstyle = 'steps-mid')\n",
    "    plt.xlabel('x', fontsize=15) #Label x\n",
    "    plt.ylabel('Relative probability', fontsize=15) #Label y\n",
    "    plt.xticks(fontsize=12)\n",
    "    plt.yticks(fontsize=12)\n",
    "    plt.show()\n",
    "\n",
    "plotData(data)\n",
    "#plotDataNormalized(data)"
   ]
  },
  {
   "cell_type": "code",
   "execution_count": null,
   "id": "cc0a134d",
   "metadata": {
    "tags": [
     "learner",
     "learner_chopped",
     "lect_03"
    ]
   },
   "outputs": [],
   "source": [
    "#>>>RUN: L1.3-runcell02\n",
    "\n",
    "#define a=xmin and b=xmax\n",
    "xmin=2\n",
    "xmax=5\n",
    "\n",
    "#sample\n",
    "bkg1 = np.random.uniform(0,10, 10000)\n",
    "\n",
    "#now count\n",
    "prob=0\n",
    "total=0\n",
    "for x in bkg1:\n",
    "    total+=1\n",
    "    if x > xmin and x < xmax :\n",
    "        prob+=1\n",
    "        \n",
    "print(\"Probability that we are between a and b is: \",prob/total, \"true probability is:\",(xmax-xmin)/10)"
   ]
  },
  {
   "cell_type": "code",
   "execution_count": null,
   "id": "6ac09b1f",
   "metadata": {
    "tags": [
     "learner",
     "learner_chopped",
     "lect_03"
    ]
   },
   "outputs": [],
   "source": [
    "#>>>RUN: L1.3-runcell03\n",
    "\n",
    "def plot_pdf_cdf_uniform(x):\n",
    "    #plotting-------------------\n",
    "    #plot size\n",
    "    fig, ax = plt.subplots(figsize=(9,6))\n",
    "\n",
    "    #plot data\n",
    "    ax.plot(x, stats.uniform.pdf(x), 'k-', lw=2, label='PDF')  # PDF of a standard uniform distribution\n",
    "    ax.plot(x, stats.uniform.cdf(x), 'k--', lw=2, label='CDF')  # CDF of a standard uniform distribution\n",
    "\n",
    "    #plot labels and style\n",
    "    plt.title(\"PDF and CDF of a standard uniform distribution\", fontsize=15)\n",
    "    plt.legend(fontsize=12)\n",
    "    plt.xlabel('x', fontsize=15) #Label x\n",
    "    plt.xticks(fontsize=12)\n",
    "    plt.yticks(fontsize=12)\n",
    "    plt.show()\n",
    "\n",
    "x = np.linspace(-2,2,100)\n",
    "plot_pdf_cdf_uniform(x)"
   ]
  },
  {
   "cell_type": "code",
   "execution_count": null,
   "id": "cd31c7e5",
   "metadata": {
    "tags": [
     "learner",
     "learner_chopped",
     "lect_03"
    ]
   },
   "outputs": [],
   "source": [
    "#>>>RUN: L1.3-runcell04\n",
    "\n",
    "def plot_pdf_cdf_normal(x):\n",
    "    #plotting-------------------\n",
    "    #plot size\n",
    "    fig, ax = plt.subplots(figsize=(9,6))\n",
    "\n",
    "    #plot data\n",
    "    ax.plot(x, stats.norm.pdf(x), 'k-', lw=2, label='PDF')  # PDF of a standard normal distribution\n",
    "    ax.plot(x, stats.norm.cdf(x), 'k--', lw=2, label='CDF')  # CDF of a standard normal distribution\n",
    "\n",
    "    #plot labels and style\n",
    "    plt.title(\"PDF and CDF of a standard normal distribution\", fontsize=15)\n",
    "    plt.legend(fontsize=12)\n",
    "    plt.xlabel('x', fontsize=15) #Label x\n",
    "    plt.xticks(fontsize=12)\n",
    "    plt.yticks(fontsize=12)\n",
    "    plt.show()\n",
    "    \n",
    "x = np.linspace(-5,5,100)\n",
    "plot_pdf_cdf_normal(x)"
   ]
  },
  {
   "cell_type": "markdown",
   "id": "7038d64e",
   "metadata": {
    "tags": [
     "learner",
     "learner_chopped"
    ]
   },
   "source": [
    "<a name='exercises_1_3'></a>\n",
    "\n",
    "| [Top](#section_1_0) | [Restart Section](#section_1_3) | [Next Section](#section_1_4) |"
   ]
  },
  {
   "cell_type": "markdown",
   "id": "4b1c2a43",
   "metadata": {
    "tags": [
     "learner",
     "learner_chopped"
    ]
   },
   "source": [
    "<!--start-block-->\n",
    "### <span style=\"border:3px; border-style:solid; padding: 0.15em; border-color: #90409C; color: #90409C;\">Ex-1.3.1: PDF and CDF</span>\n",
    "\n",
    "For any valid (i.e. corresponding to some possible probability distribution) PDF, what is the maximum value of its corresponding CDF? Enter a number."
   ]
  },
  {
   "cell_type": "markdown",
   "id": "be7636db",
   "metadata": {
    "tags": [
     "learner",
     "learner_chopped",
     "8S50x"
    ]
   },
   "source": [
    "**Reminder:** Your final answers **must** always be submitted on MITx."
   ]
  },
  {
   "cell_type": "markdown",
   "id": "66dc1cee",
   "metadata": {
    "tags": [
     "learner",
     "learner_chopped"
    ]
   },
   "source": [
    "### <span style=\"border:3px; border-style:solid; padding: 0.15em; border-color: #90409C; color: #90409C;\">Ex-1.3.2: Sum of Two Distributions</span>\n",
    "\n",
    "Consider two arrays of uniformly distributed data, each with 10,000 points (as shown in the code below). What is the integral of the array which is the sum of these two arrays?  Enter a number."
   ]
  },
  {
   "cell_type": "markdown",
   "id": "ac781e45",
   "metadata": {
    "tags": [
     "learner",
     "learner_chopped",
     "8S50x"
    ]
   },
   "source": [
    "**Reminder:** Your final answers **must** always be submitted on MITx."
   ]
  },
  {
   "cell_type": "code",
   "execution_count": null,
   "id": "2d5e88ac",
   "metadata": {
    "scrolled": true,
    "tags": [
     "draft",
     "learner_chopped"
    ]
   },
   "outputs": [],
   "source": [
    "#>>>EXERCISE: L1.3.2\n",
    "# Use this cell for drafting your solution (if desired),\n",
    "# then enter your solution in the interactive problem online to be graded.\n",
    "\n",
    "#Let's sample a uniform distribution 10k times each\n",
    "bkg1 = np.random.uniform(0,10, 10000)\n",
    "bkg2 = np.random.uniform(0,10, 10000) #this outputs an array of 10,000\n",
    "\n",
    "#Now we sum them\n",
    "data = bkg1 + bkg2 #since bkg1 and 2 are numpy arrays, doing this adds element-wise (called \"broadcasting\")\n",
    "\n",
    "#YOUR CODE HERE"
   ]
  },
  {
   "cell_type": "markdown",
   "id": "eeafb022",
   "metadata": {
    "tags": [
     "learner",
     "learner_chopped"
    ]
   },
   "source": [
    "<!--start-block-->\n",
    "<a name='section_1_4'></a>\n",
    "<hr style=\"height: 1px;\">\n",
    "\n",
    "\n",
    "## <h2 style=\"border:1px; border-style:solid; padding: 0.25em; color: #FFFFFF; background-color: #90409C\">L1.4 Expectation and Variance</h2>\n",
    "\n",
    "| [Top](#section_1_0) | [Previous Section](#section_1_3) | [Exercises](#exercises_1_4) | [Next Section](#section_1_5) |"
   ]
  },
  {
   "cell_type": "code",
   "execution_count": null,
   "id": "ff6cbf63",
   "metadata": {
    "tags": [
     "learner",
     "learner_chopped",
     "lect_04"
    ]
   },
   "outputs": [],
   "source": [
    "#>>>RUN: L1.4-runcell01\n",
    "\n",
    "#sample\n",
    "nsamples=10000\n",
    "bkg1 = np.random.uniform(0,10, nsamples)\n",
    "\n",
    "#mean\n",
    "mean=0\n",
    "prob=1./nsamples\n",
    "for x in bkg1:\n",
    "    mean+=x*prob\n",
    "print(\"Mean: \",mean)\n",
    "\n",
    "#Now we can do the variance\n",
    "var=0\n",
    "for x in bkg1:\n",
    "    var+=(x-mean)*(x-mean)*prob\n",
    "print(\"Var: \",var)\n",
    "\n",
    "#Now we can do it the fast way, using intrinsic numpy functions\n",
    "print(\"Mean:\",bkg1.mean(),\"Variance:\",bkg1.var())"
   ]
  },
  {
   "cell_type": "markdown",
   "id": "c5f7b680",
   "metadata": {
    "tags": [
     "learner",
     "learner_chopped"
    ]
   },
   "source": [
    "<!--start-block-->\n",
    "### <span style=\"border:3px; border-style:solid; padding: 0.15em; border-color: #90409C; color: #90409C;\">Ex-1.4.1: Mean of Uniform Distribution</span>\n",
    "\n",
    "Compute the \"ideal\" value of the mean (i.e., the average) of a uniform distribution from 0 to 5. You may do this analytically or by augmenting the code above."
   ]
  },
  {
   "cell_type": "markdown",
   "id": "a9fc2463",
   "metadata": {
    "tags": [
     "learner",
     "learner_chopped",
     "8S50x"
    ]
   },
   "source": [
    "**Reminder:** Your final answers **must** always be submitted on MITx."
   ]
  },
  {
   "cell_type": "markdown",
   "id": "e748d469",
   "metadata": {
    "tags": [
     "learner",
     "learner_chopped"
    ]
   },
   "source": [
    ">#### Follow-up 1.4.1a (ungraded)\n",
    ">   \n",
    ">Compute the mean and variance of a uniform distribution from 0 to 5 by taking 1000 random samples. Use the starting code below."
   ]
  },
  {
   "cell_type": "code",
   "execution_count": null,
   "id": "2161e6b6",
   "metadata": {
    "scrolled": true,
    "tags": [
     "draft",
     "learner_chopped"
    ]
   },
   "outputs": [],
   "source": [
    "#>>>FOLLOW-UP: L1.4.1a\n",
    "# Use this cell for drafting your solution (if desired)\n",
    "\n",
    "def mean(start, end, num_points):\n",
    "    mean_val = 0 # your code here\n",
    "    return mean_val\n",
    "\n",
    "def variance(start, end, num_points):\n",
    "    var_val = 0 # your code here\n",
    "    return var_val"
   ]
  },
  {
   "cell_type": "markdown",
   "id": "6726ef24",
   "metadata": {
    "tags": [
     "learner",
     "learner_chopped"
    ]
   },
   "source": [
    "<!--start-block-->\n",
    "### <span style=\"border:3px; border-style:solid; padding: 0.15em; border-color: #90409C; color: #90409C;\">Ex-1.4.2: Mean and Variance of a Uniform Distribution</span>\n",
    "\n",
    "Calculate analytically the mean and variance for a uniform distribution in the following ranges:\n",
    "\n",
    "(a) 0 to 2<br>\n",
    "(b) 0 to 5<br>\n",
    "(c) 0 to 10<br>\n",
    "(d) 0 to 20\n",
    "\n",
    "What is the trend in mean (expectation) and variance, from (a) to (d)? Choose from the options below:\n",
    "\n",
    "- mean decreasing, variance decreasing\n",
    "- mean decreasing, variance increasing\n",
    "- mean increasing, variance decreasing\n",
    "- mean increasing, variance increasing\n",
    "\n",
    "You may want to get a general formula. Alternatively, use large samples (>1000 events) from these distributions to computationally estimate the mean and variances (starting code below).\n",
    "    \n",
    "Whichever method you chose, you are encouraged to look at the solution after you submit your answer to make sure you understand how this works analytically. "
   ]
  },
  {
   "cell_type": "markdown",
   "id": "7fbd7859",
   "metadata": {
    "tags": [
     "learner",
     "learner_chopped",
     "8S50x"
    ]
   },
   "source": [
    "**Reminder:** Your final answers **must** always be submitted on MITx."
   ]
  },
  {
   "cell_type": "code",
   "execution_count": null,
   "id": "ae9d8282",
   "metadata": {
    "scrolled": true,
    "tags": [
     "draft",
     "learner_chopped"
    ]
   },
   "outputs": [],
   "source": [
    "#>>>EXERCISE: L1.4.2\n",
    "# Use this cell for drafting your solution (if desired),\n",
    "# then enter your solution in the interactive problem online to be graded.\n",
    "\n",
    "import numpy as np\n",
    "\n",
    "# Sample from uniform distributions in [0,2], [0,5], [0,10], [0,20]\n",
    "samples_list = [np.random.uniform(0, upper, 1000) for upper in [2, 5, 10, 20]] # Python list compr. syntax\n",
    "\n",
    "# Get a list of tuples of (mean, variance)\n",
    "means_vars = 0 #YOUR CODE HERE\n",
    "\n",
    "# Print results\n",
    "for mean, variance in means_vars:\n",
    "    print(f\"Mean: {mean}, Variance: {variance}\")"
   ]
  },
  {
   "cell_type": "markdown",
   "id": "b48f4b82",
   "metadata": {
    "tags": [
     "learner",
     "learner_chopped"
    ]
   },
   "source": [
    "<!--start-block-->\n",
    "<a name='section_1_5'></a>\n",
    "<hr style=\"height: 1px;\">\n",
    "\n",
    "\n",
    "## <h2 style=\"border:1px; border-style:solid; padding: 0.25em; color: #FFFFFF; background-color: #90409C\">L1.5 Sum of Two Distributions Continued</h2>\n",
    "\n",
    "| [Top](#section_1_0) | [Previous Section](#section_1_4) | [Exercises](#exercises_1_5) | [Next Section](#section_1_6) |"
   ]
  },
  {
   "cell_type": "code",
   "execution_count": null,
   "id": "2d5f48ce",
   "metadata": {
    "tags": [
     "learner",
     "learner_chopped",
     "lect_05"
    ]
   },
   "outputs": [],
   "source": [
    "#>>>RUN: L1.5-runcell01\n",
    "\n",
    "bkg1 = np.random.uniform(0,10, 100)\n",
    "bkg2 = np.random.uniform(0,10, 100)\n",
    "\n",
    "#Now we sum them\n",
    "data = bkg1+bkg2\n",
    "\n",
    "#now let's fix x' to be 10, this means only bkg1 is an independent variable\n",
    "val=10-bkg1\n",
    "\n",
    "#now let's plot them\n",
    "#plotting-------------------\n",
    "#plot data\n",
    "plt.scatter(bkg1,bkg2, label=\"x1, x2 independently sampled\")\n",
    "plt.scatter(bkg1,val, label=\"x' = x1 + x2 = 10\")\n",
    "\n",
    "#plot labels and style\n",
    "plt.legend(fontsize=15)\n",
    "plt.xlabel('x1', fontsize=15) #Label x\n",
    "plt.ylabel('x2', fontsize=15) #Label y\n",
    "plt.xticks(fontsize=12)\n",
    "plt.yticks(fontsize=12)\n",
    "plt.show()"
   ]
  },
  {
   "cell_type": "code",
   "execution_count": null,
   "id": "a49ce238",
   "metadata": {
    "scrolled": true,
    "tags": [
     "learner",
     "learner_chopped",
     "lect_05"
    ]
   },
   "outputs": [],
   "source": [
    "#>>>RUN: L1.5-runcell02\n",
    "\n",
    "#Let's first add our numbers\n",
    "nsamples=1000\n",
    "bkg1 = np.random.uniform(0,10, nsamples)\n",
    "bkg2 = np.random.uniform(0,10, nsamples)\n",
    "data = bkg1+bkg2\n",
    "nbins=100\n",
    "\n",
    "#now we make a histogram\n",
    "histy, bin_edges = np.histogram(data, bins=nbins)\n",
    "bin_centers = 0.5*(bin_edges[1:] + bin_edges[:-1])\n",
    "\n",
    "#Now let's define our function. \n",
    "def function(ix,ntot=nsamples,inbins=nbins):#note the norm is for n bins over 0-20\n",
    "    if ix < 10:\n",
    "        return ntot*(20/inbins)*(ix/100)\n",
    "    else: \n",
    "        return ntot*(20/inbins)*(20-ix)/100\n",
    "\n",
    "def functionnp(ix,ntot=nsamples,inbins=nbins):#note the norm is for n bins over 0-20\n",
    "    return np.where(ix < 10,ntot*(20/inbins)*(ix/100),ntot*(20/inbins)*(20-ix)/100 )\n",
    "    \n",
    "#We need to evaluate the function, so we do it like this\n",
    "x = np.linspace(start=0, stop=20, num=100)\n",
    "#this list(map) is just a trick to run this function on all elements in the array\n",
    "#y = np.array(list(map(function, x)))\n",
    "y = functionnp(x) #this just uses numpy\n",
    "\n",
    "\n",
    "#plotting-------------------\n",
    "#plot size\n",
    "fig, ax = plt.subplots(figsize=(9,6))\n",
    "\n",
    "#plot data\n",
    "plt.plot(x, y,label='analytic PDF')\n",
    "plt.plot(bin_centers,histy,drawstyle = 'steps-mid')\n",
    "\n",
    "#plot labels and style\n",
    "plt.xlabel('x1+x2', fontsize=15) #Label x\n",
    "plt.ylabel('$N_\\mathrm{samples}$/bin', fontsize=15) #Label y\n",
    "plt.xticks(fontsize=12)\n",
    "plt.yticks(fontsize=12)\n",
    "plt.show()"
   ]
  },
  {
   "cell_type": "code",
   "execution_count": null,
   "id": "f4038806",
   "metadata": {
    "tags": [
     "learner",
     "learner_chopped",
     "lect_05"
    ]
   },
   "outputs": [],
   "source": [
    "#>>>RUN: L1.5-runcell03\n",
    "\n",
    "#Sample something crazy\n",
    "bkg1 = np.random.uniform(0,10, 10000) # a random like before\n",
    "bkg2 = np.random.normal (5,2 , 10000) # a gaussian distribution centered about 2 with width 5\n",
    "data = bkg1+bkg2\n",
    "\n",
    "\n",
    "#plotting-------------------\n",
    "#plot size\n",
    "fig, ax = plt.subplots(figsize=(9,6))\n",
    "\n",
    "#plot data and axes limits\n",
    "histy, bin_edges = np.histogram(data, bins=20)\n",
    "bin_centers = 0.5*(bin_edges[1:] + bin_edges[:-1])\n",
    "#ax.set_ylim([0,150])\n",
    "\n",
    "#plot labels and style\n",
    "plt.plot(bin_centers,histy,drawstyle = 'steps-mid')\n",
    "plt.xlabel('x', fontsize=15) #Label x\n",
    "plt.ylabel('f(x)', fontsize=15) #Label y\n",
    "plt.xticks(fontsize=12)\n",
    "plt.yticks(fontsize=12)\n",
    "plt.show()"
   ]
  },
  {
   "cell_type": "markdown",
   "id": "01397548",
   "metadata": {
    "tags": [
     "learner",
     "learner_chopped"
    ]
   },
   "source": [
    "<!--start-block-->\n",
    "### <span style=\"border:3px; border-style:solid; padding: 0.15em; border-color: #90409C; color: #90409C;\">Ex-1.5.1: Generalizing the Sum Distribution</span>\n",
    "\n",
    "Let's generalize the sum distribution. Compute the sum of 3 random variables that are distributed uniformly between 0 and 1 (draw 10000 samples, as was done above). Plot the histogram of this sum. Try the sum of 4 random variables.\n",
    "\n",
    "How does the sum distribution behave as we scale to N uniform random variables? Choose from the options below:\n",
    "\n",
    "- it looks like a uniform distribtion\n",
    "- it looks like a sharper triangle shape\n",
    "- it looks like a normal distribution"
   ]
  },
  {
   "cell_type": "code",
   "execution_count": null,
   "id": "8d9e1f05",
   "metadata": {
    "tags": [
     "draft",
     "py",
     "learner_chopped"
    ]
   },
   "outputs": [],
   "source": [
    "#>>>EXERCISE: L1.5.1\n",
    "# Use this cell for drafting your solution (if desired),\n",
    "# then enter your solution in the interactive problem online to be graded.\n",
    "\n",
    "pass"
   ]
  },
  {
   "cell_type": "markdown",
   "id": "e70e8aa8",
   "metadata": {
    "tags": [
     "learner",
     "learner_chopped"
    ]
   },
   "source": [
    "<!--start-block-->\n",
    "<a name='section_1_6'></a>\n",
    "<hr style=\"height: 1px;\">\n",
    "\n",
    "## <h2 style=\"border:1px; border-style:solid; padding: 0.25em; color: #FFFFFF; background-color: #90409C\">L1.6 Generalizing to Many Measurements</h2>\n",
    "    \n",
    "| [Top](#section_1_0) | [Previous Section](#section_1_5) | [Exercises](#exercises_1_6) |\n"
   ]
  },
  {
   "cell_type": "code",
   "execution_count": null,
   "id": "9791b80e",
   "metadata": {
    "tags": [
     "learner",
     "learner_chopped",
     "lect_06"
    ]
   },
   "outputs": [],
   "source": [
    "#>>>RUN: L1.6-runcell01\n",
    "\n",
    "#Let's first add our numbers\n",
    "nsamples=1000\n",
    "mu=0\n",
    "sigma=1\n",
    "x1 = np.random.normal(mu,sigma, nsamples)\n",
    "x2 = np.random.normal(mu,sigma, nsamples)\n",
    "\n",
    "#plotting-------------------\n",
    "#plot size\n",
    "fig, ax = plt.subplots(figsize=(6,6)) #a square plot size is more useful for this data\n",
    "\n",
    "#plot data and axes limits\n",
    "plt.scatter(x1,x2,)\n",
    "plt.xlim(-4,4)\n",
    "plt.ylim(-4,4)\n",
    "\n",
    "#plot labels and style\n",
    "plt.title(\"Joint PDF of two normal distributions\", fontsize=15)\n",
    "plt.xlabel('x1', fontsize=15) #Label x\n",
    "plt.ylabel('x2', fontsize=15) #Label y\n",
    "plt.xticks(fontsize=12)\n",
    "plt.yticks(fontsize=12)\n",
    "plt.show()"
   ]
  },
  {
   "cell_type": "code",
   "execution_count": null,
   "id": "45b5dcac",
   "metadata": {
    "tags": [
     "learner",
     "learner_chopped",
     "lect_06"
    ]
   },
   "outputs": [],
   "source": [
    "#>>>RUN: L1.6-runcell02\n",
    "\n",
    "import math\n",
    "\n",
    "#define a function that samples a normal distribution N times and then returns mean and root mean-square rms \n",
    "#(also known as standard deviation, the square root of variance)\n",
    "def sample(iN,imean,istdev):\n",
    "    sample = np.random.normal(imean,istdev,iN)\n",
    "    return sample.mean(),sample.std()\n",
    "\n",
    "#This function runs 100 tests where we sample N times, we call these toys\n",
    "def meansample(iN,imean,istdev):\n",
    "    ntoys=100\n",
    "    allmeans=np.array([])\n",
    "    allrmses=np.array([])\n",
    "    for i0 in range(ntoys):\n",
    "        pMean,pRMS=sample(iN,imean,istdev)\n",
    "        allmeans=np.append(allmeans,pMean)\n",
    "        allrmses=np.append(allrmses,pRMS)\n",
    "    return allmeans.std(),allrmses.std()\n",
    "\n",
    "\n",
    "def get_sim_mean_rms(isamples,imean,istdev):\n",
    "  nvar=np.array([])\n",
    "  mean=np.array([])\n",
    "  rms=np.array([])\n",
    "\n",
    "  distmean=np.array([])\n",
    "  distrms=np.array([])\n",
    "\n",
    "\n",
    "  #Now we iterate from 1 to 250 in sampling and compute mean and RMS\n",
    "  for i0 in range(isamples):\n",
    "      nvar = np.append(nvar,i0)\n",
    "\n",
    "      #Sample just once \n",
    "      pMean,pRMS=sample(i0,imean,istdev)\n",
    "      distmean = np.append(distmean,pMean)\n",
    "      distrms  = np.append(distrms,pRMS)\n",
    "\n",
    "      #sample many times\n",
    "      pMean,pRMS=meansample(i0,imean,istdev)\n",
    "      mean = np.append(mean,pMean)\n",
    "      rms  = np.append(rms,pRMS)\n",
    "    \n",
    "  return nvar, distmean, distrms, mean, rms\n",
    "\n",
    "\n",
    "isamples,imean,istdev = [250,0,1]\n",
    "nvar, distmean, distrms, mean, rms = get_sim_mean_rms(isamples,imean,istdev)\n",
    "\n",
    "\n",
    "# plt.plot(nvar,funcmean,'--',label='func rms of mean')\n",
    "# plt.plot(nvar,funcrms,'--',label='func rms of rms')\n",
    "plt.plot(nvar,distmean,label='mean')\n",
    "plt.plot(nvar,distrms,label='rms')\n",
    "plt.plot(nvar,mean,label='rms of mean')\n",
    "plt.plot(nvar,rms + np.ones(len(rms)),label='rms of rms') # Add 1 to the rms to separate these two quantities in the plot\n",
    "plt.legend(loc='lower right')\n",
    "plt.xlabel(\"Number of samples\")\n",
    "plt.show()"
   ]
  },
  {
   "cell_type": "markdown",
   "id": "e9544d52",
   "metadata": {
    "tags": [
     "learner",
     "learner_chopped"
    ]
   },
   "source": [
    "<a name='exercises_1_6'></a>\n",
    "\n",
    "| [Top](#section_1_0) | [Restart Section](#section_1_6) |"
   ]
  },
  {
   "cell_type": "markdown",
   "id": "f3873245",
   "metadata": {
    "tags": [
     "learner",
     "learner_chopped"
    ]
   },
   "source": [
    "### <span style=\"border:3px; border-style:solid; padding: 0.15em; border-color: #90409C; color: #90409C;\">Ex-1.6.1: Variance of the Mean and Variance of the Variance</span>\n",
    "\n",
    "We know that the variance and mean for a normal distribution are \n",
    "\n",
    "$$\n",
    "\\begin{eqnarray}\n",
    "E(\\mathcal N(x; \\mu,\\sigma)) & = & \\mu \\\\\n",
    "V(\\mathcal N(x; \\mu,\\sigma)) & = & \\sigma^2 \\\\\n",
    "\\end{eqnarray}\n",
    "$$\n",
    "\n",
    "Now we wish to derive a functional form for $\\sqrt{V[\\bar{x}]}$ (the rms of the mean) and $\\sqrt{V\\left[(x-\\bar{x})^2\\right]}$ (the rms of the rms), and compare with simulated data.\n",
    "\n",
    "Write a function that accepts an array and returns the rms of the mean and the rms of the rms."
   ]
  },
  {
   "cell_type": "markdown",
   "id": "f3c6be61",
   "metadata": {
    "tags": [
     "learner",
     "learner_chopped",
     "8S50x"
    ]
   },
   "source": [
    "**Reminder:** Your final answers **must** always be submitted on MITx."
   ]
  },
  {
   "cell_type": "code",
   "execution_count": null,
   "id": "938a2d93",
   "metadata": {
    "tags": [
     "draft",
     "learner_chopped"
    ]
   },
   "outputs": [],
   "source": [
    "#>>>EXERCISE: L1.6.1\n",
    "# Use this cell for drafting your solution (if desired),\n",
    "# then enter your solution in the interactive problem online to be graded.\n",
    "\n",
    "\n",
    "def func_rms_mean(isample_array,imean,istdev):\n",
    "    rms_mean = 0. #complete the function\n",
    "    return rms_mean\n",
    "    \n",
    "\n",
    "def func_rms_rms(isample_array,imean,istdev):\n",
    "    #this is a piecewise function with rms=0 for isample[i]=1\n",
    "    rms_rms = 0. #complete the function\n",
    "    return np.where(isample_array <=1, 0, rms_rms)\n"
   ]
  },
  {
   "cell_type": "markdown",
   "id": "4a4ff695",
   "metadata": {
    "tags": [
     "learner",
     "learner_chopped"
    ]
   },
   "source": [
    ">#### Follow-up 1.6.1a (ungraded)\n",
    ">\n",
    ">Plot the functions that correspond to the rms of the mean and the rms of the rms, and compare these predictions with the results from simulated data."
   ]
  },
  {
   "cell_type": "markdown",
   "id": "de41d098",
   "metadata": {
    "tags": [
     "learner",
     "learner_chopped"
    ]
   },
   "source": [
    ">#### Follow-up 1.6.1b (ungraded)\n",
    ">   \n",
    ">Sample a normal distribution of mean 1 and variance $\\sigma$ with an increasing number of events, N. What do you observe as the trend of this distribution as a function of N?\n",
    "\n"
   ]
  }
 ],
 "metadata": {
  "celltoolbar": "Tags",
  "kernelspec": {
   "display_name": "Python 3 (ipykernel)",
   "language": "python",
   "name": "python3"
  },
  "language_info": {
   "codemirror_mode": {
    "name": "ipython",
    "version": 3
   },
   "file_extension": ".py",
   "mimetype": "text/x-python",
   "name": "python",
   "nbconvert_exporter": "python",
   "pygments_lexer": "ipython3",
   "version": "3.10.9"
  }
 },
 "nbformat": 4,
 "nbformat_minor": 5
}
