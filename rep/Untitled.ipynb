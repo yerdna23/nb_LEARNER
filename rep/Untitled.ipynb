{
 "cells": [
  {
   "cell_type": "code",
   "execution_count": 3,
   "id": "de8bde59-f086-47e6-8bb2-2caf3e5a3f32",
   "metadata": {
    "tags": []
   },
   "outputs": [],
   "source": [
    "import numpy as np\n",
    "import pandas as pd"
   ]
  },
  {
   "cell_type": "code",
   "execution_count": 1,
   "id": "40e98d94-2be6-4850-8bf5-2cc92438541d",
   "metadata": {
    "tags": [
     "learner"
    ]
   },
   "outputs": [
    {
     "data": {
      "text/html": [
       "\n",
       "        <iframe\n",
       "            width=\"975\"\n",
       "            height=\"550\"\n",
       "            src=\"https://mitx-8s50.github.io/slides/L01/slides1.html\"\n",
       "            frameborder=\"0\"\n",
       "            allowfullscreen\n",
       "            \n",
       "        ></iframe>\n",
       "        "
      ],
      "text/plain": [
       "<IPython.lib.display.IFrame at 0x79f2ed5638e0>"
      ]
     },
     "execution_count": 1,
     "metadata": {},
     "output_type": "execute_result"
    }
   ],
   "source": [
    "#>>>RUN: L1.2-slides\n",
    "\n",
    "from IPython.display import IFrame\n",
    "\n",
    "IFrame(src='https://mitx-8s50.github.io/slides/L01/slides1.html', width=975, height=550)"
   ]
  },
  {
   "cell_type": "markdown",
   "id": "2a83ae44-2459-4425-9fbf-ab93f6eb8ca4",
   "metadata": {},
   "source": [
    "Esperanza"
   ]
  },
  {
   "cell_type": "code",
   "execution_count": 5,
   "id": "f256161c-780f-4e54-9174-831d909d2136",
   "metadata": {
    "tags": []
   },
   "outputs": [
    {
     "name": "stdout",
     "output_type": "stream",
     "text": [
      "Mean: 5.034808036026847\n",
      "Var: 8.358280153169343\n",
      "Mean: 5.034808036026851 Variance: 8.3582801531693\n"
     ]
    }
   ],
   "source": [
    "nsamples = 10000\n",
    "bkg = np.random.uniform(0,10,nsamples)\n",
    "\n",
    "#mean\n",
    "mean= 0\n",
    "prob= 1./nsamples\n",
    "for x in bkg:\n",
    "    mean+= x*prob\n",
    "print('Mean:', mean)\n",
    "\n",
    "var = 0\n",
    "\n",
    "for x in bkg:\n",
    "    var+= (x - mean)*(x - mean)*prob\n",
    "print('Var:', var)\n",
    "\n",
    "#Now we can do it the fast way, using intrinsic numpy functions\n",
    "print(\"Mean:\",bkg.mean(),\"Variance:\",bkg.var())"
   ]
  },
  {
   "cell_type": "code",
   "execution_count": null,
   "id": "1c402da0-2896-4d54-a306-decf51bbb073",
   "metadata": {},
   "outputs": [],
   "source": []
  }
 ],
 "metadata": {
  "kernelspec": {
   "display_name": "Python 3 (ipykernel)",
   "language": "python",
   "name": "python3"
  },
  "language_info": {
   "codemirror_mode": {
    "name": "ipython",
    "version": 3
   },
   "file_extension": ".py",
   "mimetype": "text/x-python",
   "name": "python",
   "nbconvert_exporter": "python",
   "pygments_lexer": "ipython3",
   "version": "3.10.9"
  }
 },
 "nbformat": 4,
 "nbformat_minor": 5
}
