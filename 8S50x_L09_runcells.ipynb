{
 "cells": [
  {
   "cell_type": "markdown",
   "id": "13dca24e",
   "metadata": {
    "tags": [
     "learner",
     "md",
     "learner_chopped"
    ]
   },
   "source": [
    "<hr style=\"height: 1px;\">\n",
    "<i>This notebook was authored by the 8.S50x Course Team, Copyright 2022 MIT All Rights Reserved.</i>\n",
    "<hr style=\"height: 1px;\">\n",
    "<br>\n",
    "\n",
    "<h1>Lesson 9: Understanding Jets</h1>\n"
   ]
  },
  {
   "cell_type": "markdown",
   "id": "ef34b508",
   "metadata": {
    "tags": [
     "learner",
     "md",
     "learner_chopped"
    ]
   },
   "source": [
    "<a name='section_9_0'></a>\n",
    "<hr style=\"height: 1px;\">\n",
    "\n",
    "\n",
    "## <h2 style=\"border:1px; border-style:solid; padding: 0.25em; color: #FFFFFF; background-color: #90409C\">L9.0 Overview</h2>\n"
   ]
  },
  {
   "cell_type": "markdown",
   "id": "d424726e",
   "metadata": {
    "tags": [
     "learner",
     "md",
     "learner_chopped"
    ]
   },
   "source": [
    "<h3>Navigation</h3>\n",
    "\n",
    "<table style=\"width:100%\">\n",
    "    <tr>\n",
    "        <td style=\"text-align: left; vertical-align: top; font-size: 10pt;\"><a href=\"#section_9_1\">L9.1 Weak and Strong Interactions</a></td>\n",
    "        <td style=\"text-align: left; vertical-align: top; font-size: 10pt;\"><a href=\"#exercises_9_1\">L9.1 Exercises</a></td>\n",
    "    </tr>\n",
    "    <tr>\n",
    "        <td style=\"text-align: left; vertical-align: top; font-size: 10pt;\"><a href=\"#section_9_2\">L9.2 Jet Physics and Fractal Dimensions</a></td>\n",
    "        <td style=\"text-align: left; vertical-align: top; font-size: 10pt;\"><a href=\"#exercises_9_2\">L9.2 Exercises</a></td>\n",
    "    </tr>\n",
    "    <tr>\n",
    "        <td style=\"text-align: left; vertical-align: top; font-size: 10pt;\"><a href=\"#section_9_3\">L9.3 How Jets are Measured</a></td>\n",
    "        <td style=\"text-align: left; vertical-align: top; font-size: 10pt;\"><a href=\"#exercises_9_3\">L9.3 Exercises</a></td>\n",
    "    </tr>\n",
    "    <tr>\n",
    "        <td style=\"text-align: left; vertical-align: top; font-size: 10pt;\"><a href=\"#section_9_4\">L9.4 What is a Jet?</a></td>\n",
    "        <td style=\"text-align: left; vertical-align: top; font-size: 10pt;\"><a href=\"#exercises_9_4\">L9.4 Exercises</a></td>\n",
    "    </tr>\n",
    "    <tr>\n",
    "        <td style=\"text-align: left; vertical-align: top; font-size: 10pt;\"><a href=\"#section_9_5\">L9.5 Hadronic Resonances</a></td>\n",
    "        <td style=\"text-align: left; vertical-align: top; font-size: 10pt;\"><a href=\"#exercises_9_5\">L9.5 Exercises</a></td>\n",
    "    </tr>\n",
    "    <tr>\n",
    "        <td style=\"text-align: left; vertical-align: top; font-size: 10pt;\"><a href=\"#section_9_6\">L9.6 Jet Tagging</a></td>\n",
    "        <td style=\"text-align: left; vertical-align: top; font-size: 10pt;\"><a href=\"#exercises_9_6\">L9.6 Exercises</a></td>\n",
    "    </tr>\n",
    "    <tr>\n",
    "        <td style=\"text-align: left; vertical-align: top; font-size: 10pt;\"><a href=\"#section_9_7\">L9.7 What Makes This Complicated?</a></td>\n",
    "        <td style=\"text-align: left; vertical-align: top; font-size: 10pt;\"><a href=\"#exercises_9_7\">L9.7 Exercises</a></td>\n",
    "    </tr>\n",
    "    <tr>\n",
    "        <td style=\"text-align: left; vertical-align: top; font-size: 10pt;\"><a href=\"#section_9_8\">L9.8 Higgs Particle</a></td>\n",
    "        <td style=\"text-align: left; vertical-align: top; font-size: 10pt;\"><a href=\"#exercises_9_8\">L9.8 Exercises</a></td>\n",
    "    </tr>\n",
    "</table>\n",
    "\n"
   ]
  },
  {
   "cell_type": "code",
   "execution_count": null,
   "id": "2060badc",
   "metadata": {
    "tags": [
     "learner",
     "py",
     "learner_chopped"
    ]
   },
   "outputs": [],
   "source": [
    "#>>>RUN: L9.0-runcell01\n",
    "\n",
    "import numpy as np                 #https://numpy.org/doc/stable/\n",
    "import matplotlib.pyplot as plt    #https://matplotlib.org/stable/api/_as_gen/matplotlib.pyplot.html\n"
   ]
  },
  {
   "cell_type": "code",
   "execution_count": null,
   "id": "b311208d",
   "metadata": {
    "tags": [
     "learner",
     "py",
     "learner_chopped"
    ]
   },
   "outputs": [],
   "source": [
    "#>>>RUN: L9.0-runcell02\n",
    "\n",
    "#set plot resolution\n",
    "%config InlineBackend.figure_format = 'retina'\n",
    "\n",
    "#set default figure parameters\n",
    "plt.rcParams['figure.figsize'] = (9,6)\n",
    "\n",
    "medium_size = 12\n",
    "large_size = 15\n",
    "\n",
    "plt.rc('font', size=medium_size)          # default text sizes\n",
    "plt.rc('xtick', labelsize=medium_size)    # xtick labels\n",
    "plt.rc('ytick', labelsize=medium_size)    # ytick labels\n",
    "plt.rc('legend', fontsize=medium_size)    # legend\n",
    "plt.rc('axes', titlesize=large_size)      # axes title\n",
    "plt.rc('axes', labelsize=large_size)      # x and y labels\n",
    "plt.rc('figure', titlesize=large_size)    # figure title\n"
   ]
  },
  {
   "cell_type": "markdown",
   "id": "d3446b58",
   "metadata": {
    "tags": [
     "learner",
     "md",
     "learner_chopped"
    ]
   },
   "source": [
    "<a name='section_9_1'></a>\n",
    "<hr style=\"height: 1px;\">\n",
    "\n",
    "## <h2 style=\"border:1px; border-style:solid; padding: 0.25em; color: #FFFFFF; background-color: #90409C\">L9.1 Weak and Strong Interactions</h2>  \n",
    "\n",
    "| [Top](#section_9_0) | [Previous Section](#section_9_0) | [Exercises](#exercises_9_1) | [Next Section](#section_9_2) |\n"
   ]
  },
  {
   "cell_type": "code",
   "execution_count": null,
   "id": "ddefb109",
   "metadata": {
    "tags": [
     "learner",
     "py",
     "learner_chopped"
    ]
   },
   "outputs": [],
   "source": [
    "#>>>RUN: L9.1-slides\n",
    "\n",
    "from IPython.display import IFrame\n",
    "IFrame(src='https://mitx-8s50.github.io/slides/L09/slides_L09_01.html', width=970, height=550)"
   ]
  },
  {
   "cell_type": "markdown",
   "id": "53f8b88b",
   "metadata": {
    "tags": [
     "learner",
     "md",
     "learner_chopped"
    ]
   },
   "source": [
    "<a name='exercises_9_1'></a>     \n",
    "\n",
    "| [Top](#section_9_0) | [Restart Section](#section_9_1) | [Next Section](#section_9_2) |\n"
   ]
  },
  {
   "cell_type": "markdown",
   "id": "20c5ac66",
   "metadata": {
    "tags": [
     "learner",
     "md",
     "learner_chopped"
    ]
   },
   "source": [
    "### <span style=\"border:3px; border-style:solid; padding: 0.15em; border-color: #90409C; color: #90409C;\">Ex-9.1.1</span>\n",
    "\n",
    "The W boson is an intermediary for which force?\n",
    "\n",
    "A) Strong\\\n",
    "B) Weak\\\n",
    "C) Electromagnetic\\\n",
    "D) Gravitational"
   ]
  },
  {
   "cell_type": "markdown",
   "id": "51f1e69c",
   "metadata": {
    "tags": [
     "learner",
     "md",
     "learner_chopped"
    ]
   },
   "source": [
    "### <span style=\"border:3px; border-style:solid; padding: 0.15em; border-color: #90409C; color: #90409C;\">Ex-9.1.2</span>\n",
    "\n",
    "Which particle(s) can spontaneously decay into a final state that includes an electron? Select all that apply:\n",
    "\n",
    "A) photons\\\n",
    "B) gluons\\\n",
    "C) W bosons\\\n",
    "D) Z bosons"
   ]
  },
  {
   "cell_type": "markdown",
   "id": "63a25c40",
   "metadata": {
    "tags": [
     "learner",
     "md",
     "learner_chopped"
    ]
   },
   "source": [
    "### <span style=\"border:3px; border-style:solid; padding: 0.15em; border-color: #90409C; color: #90409C;\">Ex-9.1.3</span>\n",
    "\n",
    "Which particle acts like a heavy photon? Select one of the following:\n",
    "\n",
    "\n",
    "A) gluons\\\n",
    "B) pions\\\n",
    "C) kaons\\\n",
    "D) W bosons\\\n",
    "E) Z bosons\n"
   ]
  },
  {
   "cell_type": "markdown",
   "id": "6989b48b",
   "metadata": {
    "tags": [
     "learner",
     "md",
     "learner_chopped"
    ]
   },
   "source": [
    "### <span style=\"border:3px; border-style:solid; padding: 0.15em; border-color: #90409C; color: #90409C;\">Ex-9.1.4</span>\n",
    "\n",
    "Neutrinos can interact with a variety of particles, but their interactions are primarily through the weak force. Which particles can interact directly with neutrinos? Select all that apply:\n",
    "\n",
    "A) photons\\\n",
    "B) gluons\\\n",
    "C) gravitons\\\n",
    "D) electrons\\\n",
    "E) W bosons"
   ]
  },
  {
   "cell_type": "markdown",
   "id": "cccb228e",
   "metadata": {
    "tags": [
     "learner",
     "md",
     "learner_chopped"
    ]
   },
   "source": [
    "### <span style=\"border:3px; border-style:solid; padding: 0.15em; border-color: #90409C; color: #90409C;\">Ex-9.1.5</span>\n",
    "\n",
    "Why are neutrino interactions at low energy so weak?\n",
    "\n",
    "A) They are not weak, we just do not observe them.\\\n",
    "B) There are fewer neutrinos at low energies.\\\n",
    "C) The W boson mediates neutrino interactions and, since it is a massive particle, it is more likely to be created at high energies.\n",
    "\n"
   ]
  },
  {
   "cell_type": "markdown",
   "id": "5e45e35f",
   "metadata": {
    "tags": [
     "learner",
     "md",
     "learner_chopped"
    ]
   },
   "source": [
    "<a name='section_9_2'></a>\n",
    "<hr style=\"height: 1px;\">\n",
    "\n",
    "## <h2 style=\"border:1px; border-style:solid; padding: 0.25em; color: #FFFFFF; background-color: #90409C\">L9.2 Jet Physics and Fractal Dimensions</h2>  \n",
    "\n",
    "| [Top](#section_9_0) | [Previous Section](#section_9_1) | [Exercises](#exercises_9_2) | [Next Section](#section_9_3) |\n"
   ]
  },
  {
   "cell_type": "code",
   "execution_count": null,
   "id": "76eb35e9",
   "metadata": {
    "tags": [
     "learner",
     "py",
     "learner_chopped"
    ]
   },
   "outputs": [],
   "source": [
    "#>>>RUN: L9.2-slides\n",
    "\n",
    "from IPython.display import IFrame\n",
    "IFrame(src='https://mitx-8s50.github.io/slides/L09/slides_L09_02.html', width=970, height=550)"
   ]
  },
  {
   "cell_type": "markdown",
   "id": "cbeaa8a4",
   "metadata": {
    "tags": [
     "learner",
     "md",
     "learner_chopped"
    ]
   },
   "source": [
    "<a name='exercises_9_2'></a>     \n",
    "\n",
    "| [Top](#section_9_0) | [Restart Section](#section_9_2) | [Next Section](#section_9_3) |\n"
   ]
  },
  {
   "cell_type": "markdown",
   "id": "328fab82",
   "metadata": {
    "tags": [
     "learner",
     "md",
     "learner_chopped"
    ]
   },
   "source": [
    "### <span style=\"border:3px; border-style:solid; padding: 0.15em; border-color: #90409C; color: #90409C;\">Ex-9.2.1</span>\n",
    "\n",
    "Quarks and gluons can't live very long by themselves! Soon they combine to form:\n",
    "\n",
    "A) Leptons\\\n",
    "B) Bosons\\\n",
    "C) Hadrons\\\n",
    "D) Photons"
   ]
  },
  {
   "cell_type": "markdown",
   "id": "bf2d0f23",
   "metadata": {
    "tags": [
     "learner",
     "md",
     "learner_chopped"
    ]
   },
   "source": [
    "### <span style=\"border:3px; border-style:solid; padding: 0.15em; border-color: #90409C; color: #90409C;\">Ex-9.2.2</span>\n",
    "\n",
    "Compute the fractal dimension of a 2D grid of 100 points, seeded randomly from a uniform distribution. Run the code below, and enter your answer as a number with precision 1e-2.\n"
   ]
  },
  {
   "cell_type": "code",
   "execution_count": null,
   "id": "97d70a7d",
   "metadata": {
    "tags": [
     "draft",
     "py",
     "learner_chopped"
    ]
   },
   "outputs": [],
   "source": [
    "#>>>EXERCISE: L9.2.2\n",
    "# Use this cell for drafting your solution (if desired),\n",
    "# then enter your solution in the interactive problem online to be graded.\n",
    "\n",
    "# Set the random seed for reproducibility\n",
    "np.random.seed(42)\n",
    "\n",
    "# Generate 100 points sampled from a uniform distribution in the range [0, 1)\n",
    "num_points = 100\n",
    "sampled_points = np.random.uniform(low=0.0, high=1.0, size=(num_points, 2))\n",
    "\n",
    "# Optionally create a scatter plot of the sampled points\n",
    "#plt.subplot(2,1,1)\n",
    "#plt.scatter(sampled_points[:,0], sampled_points[:,1])\n",
    "\n",
    "\n",
    "def fractal_dimension(points):\n",
    "    #original box size\n",
    "    box_min = 0.\n",
    "    box_max = 1.\n",
    "\n",
    "    # choose how many divisions will be computed,\n",
    "    # where each division represents a fraction of the original total box size\n",
    "    num_divisions = 5\n",
    "    divide_by = np.linspace(1,num_divisions,num_divisions)\n",
    "    box_fractions = 1./divide_by\n",
    "\n",
    "    # create array with zeros that will be populated by counts\n",
    "    num_boxes_count = np.zeros(len(box_fractions))\n",
    "\n",
    "    \n",
    "    # implement the box-counting algorithm\n",
    "    # for each new box size, divide the  original box into fractions\n",
    "    # and count the number of new boxes that contain points\n",
    "    for i in range(len(box_fractions)):\n",
    "      ibox_fraction = box_fractions[i]\n",
    "\n",
    "      # get the coords of the boxes used at this step\n",
    "      box_xcoords = np.arange(box_min,box_max+ibox_fraction,ibox_fraction)\n",
    "      box_ycoords = np.arange(box_min,box_max+ibox_fraction,ibox_fraction)\n",
    "      \n",
    "      # count the number of boxes that contain at least one point\n",
    "      count_boxes = 0\n",
    "\n",
    "      for j in range(len(box_ycoords)-1):\n",
    "        y_min = box_ycoords[j]\n",
    "        y_max = box_ycoords[j+1]\n",
    "\n",
    "        for k in range(len(box_xcoords)-1):\n",
    "          x_min = box_xcoords[k]\n",
    "          x_max = box_xcoords[k+1]\n",
    "\n",
    "          points_is_in_box = 0\n",
    "          for x, y in points:\n",
    "            if x_min <= x <= x_max and y_min <= y <= y_max:\n",
    "              points_is_in_box = 1\n",
    "              \n",
    "          count_boxes += points_is_in_box\n",
    "\n",
    "      num_boxes_count[i] = count_boxes\n",
    "\n",
    "    # Fit a line to the log-log plot of box counts vs. fraction\n",
    "    coeffs = np.polyfit(-np.log2(box_fractions), np.log2(num_boxes_count), 1)\n",
    "    fractal_dim = coeffs[0]\n",
    "\n",
    "    # Optionally plot the box counts vs. fraction\n",
    "    #plt.subplot(2,1,2)\n",
    "    #plt.scatter(-np.log2(box_fractions),np.log2(num_boxes_count))\n",
    "\n",
    "    return fractal_dim\n",
    "\n",
    "fractal_dimension(sampled_points)"
   ]
  },
  {
   "cell_type": "markdown",
   "id": "14261140",
   "metadata": {
    "tags": [
     "learner",
     "md",
     "learner_chopped"
    ]
   },
   "source": [
    "### <span style=\"border:3px; border-style:solid; padding: 0.15em; border-color: #90409C; color: #90409C;\">Ex-9.2.3</span>\n",
    "\n",
    "Change the number of points in the above code to 10. What is the new fractal dimension? Why is it different?\n",
    "\n",
    "Report your answer as a number with precision 1e-2.\n",
    "\n"
   ]
  },
  {
   "cell_type": "markdown",
   "id": "d0bea0da",
   "metadata": {
    "tags": [
     "learner",
     "md",
     "learner_chopped"
    ]
   },
   "source": [
    "<a name='section_9_3'></a>\n",
    "<hr style=\"height: 1px;\">\n",
    "\n",
    "## <h2 style=\"border:1px; border-style:solid; padding: 0.25em; color: #FFFFFF; background-color: #90409C\">L9.3 How Jets are Measured</h2>  \n",
    "\n",
    "| [Top](#section_9_0) | [Previous Section](#section_9_2) | [Exercises](#exercises_9_3) | [Next Section](#section_9_4) |\n"
   ]
  },
  {
   "cell_type": "code",
   "execution_count": null,
   "id": "e5eecd9c",
   "metadata": {
    "tags": [
     "learner",
     "py",
     "learner_chopped"
    ]
   },
   "outputs": [],
   "source": [
    "#>>>RUN: L9.3-slides\n",
    "\n",
    "from IPython.display import IFrame\n",
    "IFrame(src='https://mitx-8s50.github.io/slides/L09/slides_L09_03.html', width=970, height=550)"
   ]
  },
  {
   "cell_type": "markdown",
   "id": "cc2d54e3",
   "metadata": {
    "tags": [
     "learner",
     "md",
     "learner_chopped"
    ]
   },
   "source": [
    "<a name='exercises_9_3'></a>     \n",
    "\n",
    "| [Top](#section_9_0) | [Restart Section](#section_9_3) | [Next Section](#section_9_4) |\n"
   ]
  },
  {
   "cell_type": "markdown",
   "id": "02e8f718",
   "metadata": {
    "tags": [
     "learner",
     "md",
     "learner_chopped"
    ]
   },
   "source": [
    "### <span style=\"border:3px; border-style:solid; padding: 0.15em; border-color: #90409C; color: #90409C;\">Ex-9.3.1</span>\n",
    "\n",
    "Which approach describes the anti-kt algorithm?\n",
    "\n",
    "A) start with low-energy pairs\\\n",
    "B) start with close in distance pairs\\\n",
    "C) start with high-energy pairs"
   ]
  },
  {
   "cell_type": "markdown",
   "id": "c914965c",
   "metadata": {
    "tags": [
     "learner",
     "md",
     "learner_chopped"
    ]
   },
   "source": [
    "### <span style=\"border:3px; border-style:solid; padding: 0.15em; border-color: #90409C; color: #90409C;\">Ex-9.3.2</span>\n",
    "\n",
    "In which detectors does the MUON leave deposits? Select all that apply:\n",
    "\n",
    "A) tracking chamber\\\n",
    "B) electromagnetic calorimeter\\\n",
    "C) hadron calorimeter\\\n",
    "D) muon chamber"
   ]
  },
  {
   "cell_type": "markdown",
   "id": "f1d5b15d",
   "metadata": {
    "tags": [
     "learner",
     "md",
     "learner_chopped"
    ]
   },
   "source": [
    "### <span style=\"border:3px; border-style:solid; padding: 0.15em; border-color: #90409C; color: #90409C;\">Ex-9.3.3</span>\n",
    "\n",
    "In which detectors does the ELECTRON leave deposits? Choose from any of the following (you may make multiple selections):\n",
    "\n",
    "A) tracking chamber\\\n",
    "B) electromagnetic calorimeter\\\n",
    "C) hadron calorimeter\\\n",
    "D) muon chamber"
   ]
  },
  {
   "cell_type": "markdown",
   "id": "ed21a0b0",
   "metadata": {
    "tags": [
     "learner",
     "md",
     "learner_chopped"
    ]
   },
   "source": [
    "<a name='section_9_4'></a>\n",
    "<hr style=\"height: 1px;\">\n",
    "\n",
    "## <h2 style=\"border:1px; border-style:solid; padding: 0.25em; color: #FFFFFF; background-color: #90409C\">L9.4 What is a Jet?</h2>  \n",
    "\n",
    "| [Top](#section_9_0) | [Previous Section](#section_9_3) | [Exercises](#exercises_9_4) | [Next Section](#section_9_5) |\n"
   ]
  },
  {
   "cell_type": "code",
   "execution_count": null,
   "id": "92946404",
   "metadata": {
    "tags": [
     "learner",
     "py",
     "learner_chopped"
    ]
   },
   "outputs": [],
   "source": [
    "#>>>RUN: L9.4-slides\n",
    "\n",
    "from IPython.display import IFrame\n",
    "IFrame(src='https://mitx-8s50.github.io/slides/L09/slides_L09_04.html', width=970, height=600)"
   ]
  },
  {
   "cell_type": "markdown",
   "id": "7c66ec3e",
   "metadata": {
    "tags": [
     "learner",
     "md",
     "learner_chopped"
    ]
   },
   "source": [
    "<a name='exercises_9_4'></a>     \n",
    "\n",
    "| [Top](#section_9_0) | [Restart Section](#section_9_4) | [Next Section](#section_9_5) |\n"
   ]
  },
  {
   "cell_type": "markdown",
   "id": "36dd0c38",
   "metadata": {
    "tags": [
     "learner",
     "md",
     "learner_chopped"
    ]
   },
   "source": [
    "### <span style=\"border:3px; border-style:solid; padding: 0.15em; border-color: #90409C; color: #90409C;\">Ex-9.4.1</span>\n",
    "\n",
    "The objective of the PUPPI algorithm is:\n",
    " \n",
    "A) to identify which charged particles are associated with jets from a particular collision vertex.\\\n",
    "B) to identify which neutral particles are associated with jets from a particular collision vertex.\\\n",
    "C) to identify charged particles not from a particular jet which fall within that jet's area.\\\n",
    "D) to add neutral particles into a jet in order to balance energy from pileup collisions.\n"
   ]
  },
  {
   "cell_type": "markdown",
   "id": "ac51b48e",
   "metadata": {
    "tags": [
     "learner",
     "md",
     "learner_chopped"
    ]
   },
   "source": [
    "<a name='section_9_5'></a>\n",
    "<hr style=\"height: 1px;\">\n",
    "\n",
    "## <h2 style=\"border:1px; border-style:solid; padding: 0.25em; color: #FFFFFF; background-color: #90409C\">L9.5 Hadronic Resonances</h2>  \n",
    "\n",
    "| [Top](#section_9_0) | [Previous Section](#section_9_4) | [Exercises](#exercises_9_5) | [Next Section](#section_9_6) |\n"
   ]
  },
  {
   "cell_type": "code",
   "execution_count": null,
   "id": "f33fb4c2",
   "metadata": {
    "tags": [
     "learner",
     "py",
     "learner_chopped"
    ]
   },
   "outputs": [],
   "source": [
    "#>>>RUN: L9.5-slides\n",
    "\n",
    "from IPython.display import IFrame\n",
    "IFrame(src='https://mitx-8s50.github.io/slides/L09/slides_L09_05.html', width=970, height=550)"
   ]
  },
  {
   "cell_type": "markdown",
   "id": "828b3613",
   "metadata": {
    "tags": [
     "learner",
     "md",
     "learner_chopped"
    ]
   },
   "source": [
    "<a name='exercises_9_5'></a>     \n",
    "\n",
    "| [Top](#section_9_0) | [Restart Section](#section_9_5) | [Next Section](#section_9_6) |\n"
   ]
  },
  {
   "cell_type": "markdown",
   "id": "e5e463cb",
   "metadata": {
    "tags": [
     "learner",
     "md",
     "learner_chopped"
    ]
   },
   "source": [
    "### <span style=\"border:3px; border-style:solid; padding: 0.15em; border-color: #90409C; color: #90409C;\">Ex-9.5.1</span>\n",
    "\n",
    "What happens to a Higgs boson decaying to b-quarks as you go to higher energy bosons? Would you need a larger or smaller jet cone to get both decays?\n",
    "\n",
    "A) larger jet cone\\\n",
    "B) smaller jet cone\\\n",
    "C) jet cones are energy independent\n"
   ]
  },
  {
   "cell_type": "markdown",
   "id": "ac8e8cf2",
   "metadata": {
    "tags": [
     "learner",
     "md",
     "learner_chopped"
    ]
   },
   "source": [
    "### <span style=\"border:3px; border-style:solid; padding: 0.15em; border-color: #90409C; color: #90409C;\">Ex-9.5.2</span>\n",
    "\n",
    "The objective of jet identification, grooming, and tagging is:\n",
    "\n",
    "A) to improve the jet mass resolution of jets from resonance decays\\\n",
    "B) to remove additional jets from other collisions\\\n",
    "C) to isolate wide angle soft radiation in the jet\\\n",
    "D) to reshape the jet to make it easier to compute variables on top of the jet"
   ]
  },
  {
   "cell_type": "markdown",
   "id": "e77237fa",
   "metadata": {
    "tags": [
     "learner",
     "md",
     "learner_chopped"
    ]
   },
   "source": [
    "<a name='section_9_6'></a>\n",
    "<hr style=\"height: 1px;\">\n",
    "\n",
    "## <h2 style=\"border:1px; border-style:solid; padding: 0.25em; color: #FFFFFF; background-color: #90409C\">L9.6 Jet Tagging</h2>  \n",
    "\n",
    "| [Top](#section_9_0) | [Previous Section](#section_9_5) | [Exercises](#exercises_9_6) | [Next Section](#section_9_7) |\n"
   ]
  },
  {
   "cell_type": "code",
   "execution_count": null,
   "id": "8c7e1f32",
   "metadata": {
    "tags": [
     "learner",
     "py",
     "learner_chopped"
    ]
   },
   "outputs": [],
   "source": [
    "#>>>RUN: L9.6-slides\n",
    "\n",
    "from IPython.display import IFrame\n",
    "IFrame(src='https://mitx-8s50.github.io/slides/L09/slides_L09_06.html', width=970, height=600)"
   ]
  },
  {
   "cell_type": "markdown",
   "id": "973c432d",
   "metadata": {
    "tags": [
     "learner",
     "md",
     "learner_chopped"
    ]
   },
   "source": [
    "<a name='exercises_9_6'></a>     \n",
    "\n",
    "| [Top](#section_9_0) | [Restart Section](#section_9_6) | [Next Section](#section_9_7) |\n"
   ]
  },
  {
   "cell_type": "markdown",
   "id": "3c322388",
   "metadata": {
    "tags": [
     "learner",
     "md",
     "learner_chopped"
    ]
   },
   "source": [
    "### <span style=\"border:3px; border-style:solid; padding: 0.15em; border-color: #90409C; color: #90409C;\">Ex-9.6.1</span>\n",
    "\n",
    "Our objective is to take a variable and decorrelate it with mass so that cutting on the new variable yields a signal that more clearly stands out above the background. For example, consider a variable `A` that has the mass dependence `A =  a + b m`, where `a` and `b` are mass-independent constants. Define a transform `f_decor(A,b,m)` that removes the mass dependence from `A`?"
   ]
  },
  {
   "cell_type": "code",
   "execution_count": null,
   "id": "9219f862",
   "metadata": {
    "tags": [
     "draft",
     "py",
     "learner_chopped"
    ]
   },
   "outputs": [],
   "source": [
    "#>>>EXERCISE: L9.6.1\n",
    "# Use this cell for drafting your solution (if desired),\n",
    "# then enter your solution in the interactive problem online to be graded.\n",
    "\n",
    "def f_decor(A,b,m):\n",
    "    return #YOUR CODE HERE\n",
    "\n",
    "# For fun, try to plot a random set of correlated values, and then decorrelate them.\n",
    "# Try this here (one example is shown in the solution)."
   ]
  },
  {
   "cell_type": "markdown",
   "id": "ff2beeb7",
   "metadata": {
    "tags": [
     "learner",
     "md",
     "learner_chopped"
    ]
   },
   "source": [
    "<a name='section_9_7'></a>\n",
    "<hr style=\"height: 1px;\">\n",
    "\n",
    "## <h2 style=\"border:1px; border-style:solid; padding: 0.25em; color: #FFFFFF; background-color: #90409C\">L9.7 What Makes This Complicated?</h2>  \n",
    "\n",
    "| [Top](#section_9_0) | [Previous Section](#section_9_6) | [Exercises](#exercises_9_7) | [Next Section](#section_9_8) |\n"
   ]
  },
  {
   "cell_type": "code",
   "execution_count": null,
   "id": "74f95eb8",
   "metadata": {
    "tags": [
     "learner",
     "py",
     "learner_chopped"
    ]
   },
   "outputs": [],
   "source": [
    "#>>>RUN: L9.7-slides\n",
    "\n",
    "from IPython.display import IFrame\n",
    "IFrame(src='https://mitx-8s50.github.io/slides/L09/slides_L09_07.html', width=970, height=550)"
   ]
  },
  {
   "cell_type": "markdown",
   "id": "6f6229cd",
   "metadata": {
    "tags": [
     "learner",
     "md",
     "learner_chopped"
    ]
   },
   "source": [
    "<a name='exercises_9_7'></a>     \n",
    "\n",
    "| [Top](#section_9_0) | [Restart Section](#section_9_7) | [Next Section](#section_9_8) |\n"
   ]
  },
  {
   "cell_type": "markdown",
   "id": "17860342",
   "metadata": {
    "tags": [
     "learner",
     "md",
     "learner_chopped"
    ]
   },
   "source": [
    "### <span style=\"border:3px; border-style:solid; padding: 0.15em; border-color: #90409C; color: #90409C;\">Ex-9.7.1</span>\n",
    "\n",
    "Assume you are given a scattered dataset of correlated values `A` and `m`, which are related by: `A =  a + b*m`, where `a` and `b` are mass-independent constants.\n",
    "\n",
    "Write a new function, `f_fit_decor`, to fit a line to the data and output the decorrelated dataset."
   ]
  },
  {
   "cell_type": "code",
   "execution_count": null,
   "id": "9f6630dc",
   "metadata": {
    "tags": [
     "draft",
     "py",
     "learner_chopped"
    ]
   },
   "outputs": [],
   "source": [
    "#>>>EXERCISE: L9.7.1\n",
    "# Use this cell for drafting your solution (if desired),\n",
    "# then enter your solution in the interactive problem online to be graded.\n",
    "\n",
    "\n",
    "def f_fit_decor(A,m):\n",
    "    # Fit a first-order polynomial to the data\n",
    "    # YOUR CODE HERE\n",
    "\n",
    "    # Extract the slope from the polynomial coefficients\n",
    "    # YOUR CODE HERE\n",
    "\n",
    "    #return the transformed data\n",
    "    return #YOUR CODE HERE\n",
    "\n",
    "\n",
    "#Test with some data\n",
    "np.random.seed(42)\n",
    "\n",
    "a = np.random.uniform(low=1.0, high=2., size=10)\n",
    "b = 0.2\n",
    "m = np.linspace(1,10,10)\n",
    "A = a + b*m\n",
    "\n",
    "plt.scatter(m,A, label = 'Correlated')\n",
    "plt.scatter(m,f_fit_decor(A,m), label = 'Decorrelated')\n",
    "plt.legend(loc=2)"
   ]
  },
  {
   "cell_type": "markdown",
   "id": "329debea",
   "metadata": {
    "tags": [
     "learner",
     "md",
     "learner_chopped"
    ]
   },
   "source": [
    "<a name='section_9_8'></a>\n",
    "<hr style=\"height: 1px;\">\n",
    "\n",
    "## <h2 style=\"border:1px; border-style:solid; padding: 0.25em; color: #FFFFFF; background-color: #90409C\">L9.8 Higgs Particle</h2>  \n",
    "\n",
    "| [Top](#section_9_0) | [Previous Section](#section_9_7) | [Exercises](#exercises_9_8) | [Next Section](#section_9_9) |\n"
   ]
  },
  {
   "cell_type": "code",
   "execution_count": null,
   "id": "2867f7fd",
   "metadata": {
    "tags": [
     "learner",
     "py",
     "learner_chopped"
    ]
   },
   "outputs": [],
   "source": [
    "#>>>RUN: L9.8-slides\n",
    "\n",
    "from IPython.display import IFrame\n",
    "IFrame(src='https://mitx-8s50.github.io/slides/L09/slides_L09_08.html', width=970, height=550)"
   ]
  },
  {
   "cell_type": "markdown",
   "id": "01b70ceb",
   "metadata": {
    "tags": [
     "learner",
     "md",
     "learner_chopped"
    ]
   },
   "source": [
    "<a name='exercises_9_8'></a>     \n",
    "\n",
    "| [Top](#section_9_0) | [Restart Section](#section_9_8) | [Next Section](#section_9_9) |\n"
   ]
  },
  {
   "cell_type": "markdown",
   "id": "c1d77d2d",
   "metadata": {
    "tags": [
     "learner",
     "md",
     "learner_chopped"
    ]
   },
   "source": [
    "### <span style=\"border:3px; border-style:solid; padding: 0.15em; border-color: #90409C; color: #90409C;\">Ex-9.8.1</span>\n",
    "\n",
    "What production mechanism for Higgs particles has the highest rate?\n",
    "\n",
    "A) Neutrino fusion\\\n",
    "B) Electron-positron annihilation\\\n",
    "C) Gluon fusion\\\n",
    "D) Neutron decay\n"
   ]
  },
  {
   "cell_type": "markdown",
   "id": "5944676d",
   "metadata": {
    "tags": [
     "learner",
     "md",
     "learner_chopped"
    ]
   },
   "source": [
    "### <span style=\"border:3px; border-style:solid; padding: 0.15em; border-color: #90409C; color: #90409C;\">Ex-9.8.2</span>\n",
    "\n",
    "In the preceding video, we discussed how deep learning enabled us to improve the \"signal efficiency\" for a fixed \"background rejection rate\". We will investigate similar plots in future lessons, but let's take a moment to define these terms:\n",
    "\n",
    "The **signal efficiency** refers to the effectiveness of a system in correctly identifying or detecting the desired signal or event of interest. It quantifies the percentage of true positive signals that are correctly identified or detected by the system. Thus, it is also called the \"true positive rate.\"\n",
    "\n",
    "The **background rejection rate** quantifies the percentage of background events that are rejected. This is oppositely related to something known as the \"background efficiency,\" which quantifies the percentage of background events that are falsely identified as \"signal.\" For example, a background efficiency of 0.03 is equal to a background rejection rate of 0.97. The background efficiency is also called the \"false positive rate.\"\n",
    "\n",
    "So, we desire a high background rejection rate (i.e., a low false-positive rate) and a high signal efficiency. Consider the plot below, which shows the improvements made by deep neural networks in detecting the Higgs boson, then answer the following:\n",
    "\n",
    "\n",
    "<p align=\"center\">\n",
    "<img alt=\"signal efficiency\" src=\"https://raw.githubusercontent.com/mitx-8s50/images/main/L09/L9.8_slide4.png\" width=\"400\"/>\n",
    "</p>\n",
    "\n",
    ">source: https://arxiv.org/abs/2006.13251<br>\n",
    ">attribution: CMS Collaboration, arXiv:2006.13251\n",
    "\n",
    "For a fixed signal efficiency of 50%, let's consider how much the background efficiency is reduced (this is shown by the arrow in the plot) or, correspondingly, how much the background rejection rate is increased. Specifically, calculate the approximate percent improvement in the background rejection rate for this fixed value of signal efficiency (i.e. the difference in rejection rate divided by the original value)? Report your answer as a fraction with precision 1e-2 (e.g., 0.05 being 5% improvement).\n"
   ]
  },
  {
   "cell_type": "markdown",
   "id": "b3b82bb1",
   "metadata": {
    "tags": [
     "learner",
     "md",
     "learner_chopped"
    ]
   },
   "source": [
    "### <span style=\"border:3px; border-style:solid; padding: 0.15em; border-color: #90409C; color: #90409C;\">Ex-9.8.3</span>\n",
    "\n",
    "Consider the same plot, shown again below, and answer the following:\n",
    "\n",
    "<p align=\"center\">\n",
    "<img alt=\"signal efficiency\" src=\"https://raw.githubusercontent.com/mitx-8s50/images/main/L09/L9.8_slide4.png\" width=\"400\"/>\n",
    "</p>\n",
    "\n",
    ">source: https://arxiv.org/abs/2006.13251<br>\n",
    ">attribution: CMS Collaboration, arXiv:2006.13251\n",
    "\n",
    "For a fixed background efficiency of 1%, approximately what is the fractional improvement in the signal efficiency? Report your answer as a fraction with precision 1e-2. \n",
    "\n"
   ]
  }
 ],
 "metadata": {
  "celltoolbar": "Tags",
  "kernelspec": {
   "display_name": "Python 3 (ipykernel)",
   "language": "python",
   "name": "python3"
  },
  "language_info": {
   "codemirror_mode": {
    "name": "ipython",
    "version": 3
   },
   "file_extension": ".py",
   "mimetype": "text/x-python",
   "name": "python",
   "nbconvert_exporter": "python",
   "pygments_lexer": "ipython3",
   "version": "3.10.9"
  }
 },
 "nbformat": 4,
 "nbformat_minor": 5
}
